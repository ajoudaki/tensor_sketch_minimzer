{
 "cells": [
  {
   "cell_type": "code",
   "execution_count": 746,
   "metadata": {
    "collapsed": true
   },
   "outputs": [],
   "source": [
    "from __future__ import annotations\n",
    "import matplotlib.pyplot as plt\n",
    "\n",
    "import numpy as np\n",
    "from tensorsketch import TSM"
   ]
  },
  {
   "cell_type": "code",
   "execution_count": 750,
   "outputs": [
    {
     "data": {
      "text/plain": "(array([[       nan,        nan,        nan,        nan],\n        [0.        , 0.33333333, 0.33333333, 0.33333333],\n        [0.        , 0.33333333, 0.33333333, 0.33333333]]),\n array([0, 2, 4]))"
     },
     "execution_count": 750,
     "metadata": {},
     "output_type": "execute_result"
    }
   ],
   "source": [
    "# for Testing\n",
    "seq = [0, 1, 2, 3, 0, 1, 2, 3]\n",
    "tss = TSM(t=2,D=4,A=4,S=2,W=3, normalize=True,sample=ord('m'))\n",
    "tss.hashes[:,0] = range(4)\n",
    "tss.signs[:,0] = 1\n",
    "tss.hashes[:,1] = range(4)\n",
    "tss.signs[:,1] = 1\n",
    "# tss.hashes, tss.signs\n",
    "tss.sketch(seq)"
   ],
   "metadata": {
    "collapsed": false,
    "pycharm": {
     "name": "#%%\n"
    }
   }
  },
  {
   "cell_type": "code",
   "execution_count": 764,
   "outputs": [],
   "source": [],
   "metadata": {
    "collapsed": false,
    "pycharm": {
     "name": "#%%\n"
    }
   }
  },
  {
   "cell_type": "code",
   "execution_count": 764,
   "outputs": [
    {
     "ename": "ZeroDivisionError",
     "evalue": "division by zero",
     "output_type": "error",
     "traceback": [
      "\u001B[0;31m---------------------------------------------------------------------------\u001B[0m",
      "\u001B[0;31mZeroDivisionError\u001B[0m                         Traceback (most recent call last)",
      "\u001B[0;32m/var/folders/f_/k4t2qy550m59jflz950fy7z40000gn/T/ipykernel_78801/760694629.py\u001B[0m in \u001B[0;36m<module>\u001B[0;34m\u001B[0m\n\u001B[1;32m    112\u001B[0m     \u001B[0mplt\u001B[0m\u001B[0;34m.\u001B[0m\u001B[0mplot\u001B[0m\u001B[0;34m(\u001B[0m\u001B[0mR\u001B[0m\u001B[0;34m+\u001B[0m\u001B[0ms\u001B[0m\u001B[0;34m,\u001B[0m\u001B[0my\u001B[0m\u001B[0;34m[\u001B[0m\u001B[0mR\u001B[0m\u001B[0;34m]\u001B[0m\u001B[0;34m+\u001B[0m\u001B[0msi\u001B[0m\u001B[0;34m*\u001B[0m\u001B[0mM\u001B[0m\u001B[0;34m)\u001B[0m\u001B[0;34m\u001B[0m\u001B[0;34m\u001B[0m\u001B[0m\n\u001B[1;32m    113\u001B[0m     \u001B[0;31m# avg_len = len(y)/len(min_indices) if min_indices==[] else -1\u001B[0m\u001B[0;34m\u001B[0m\u001B[0;34m\u001B[0m\u001B[0m\n\u001B[0;32m--> 114\u001B[0;31m     \u001B[0mprint\u001B[0m\u001B[0;34m(\u001B[0m\u001B[0;34mf'# min = {len(min_indices)}, avg stride = {len(y)/len(min_indices):.0f}'\u001B[0m\u001B[0;34m)\u001B[0m\u001B[0;34m\u001B[0m\u001B[0;34m\u001B[0m\u001B[0m\n\u001B[0m\u001B[1;32m    115\u001B[0m \u001B[0;34m\u001B[0m\u001B[0m\n",
      "\u001B[0;31mZeroDivisionError\u001B[0m: division by zero"
     ]
    },
    {
     "data": {
      "text/plain": "<Figure size 1440x576 with 1 Axes>",
      "image/png": "[encoded data removed]"
     },
     "metadata": {
      "needs_background": "light"
     },
     "output_type": "display_data"
    }
   ],
   "source": [
    "%matplotlib inline\n",
    "\n",
    "def savitzky_golay(y, window_size, order, deriv=0, rate=1):\n",
    "    r\"\"\"Smooth (and optionally differentiate) data with a Savitzky-Golay filter.\n",
    "    The Savitzky-Golay filter removes high frequency noise from data.\n",
    "    It has the advantage of preserving the original shape and\n",
    "    features of the signal better than other types of filtering\n",
    "    approaches, such as moving averages techniques.\n",
    "    Parameters\n",
    "    ----------\n",
    "    y : array_like, shape (N,)\n",
    "        the values of the time history of the signal.\n",
    "    window_size : int\n",
    "        the length of the window. Must be an odd integer number.\n",
    "    order : int\n",
    "        the order of the polynomial used in the filtering.\n",
    "        Must be less then `window_size` - 1.\n",
    "    deriv: int\n",
    "        the order of the derivative to compute (default = 0 means only smoothing)\n",
    "    Returns\n",
    "    -------\n",
    "    ys : ndarray, shape (N)\n",
    "        the smoothed signal (or it's n-th derivative).\n",
    "    Notes\n",
    "    -----\n",
    "    The Savitzky-Golay is a type of low-pass filter, particularly\n",
    "    suited for smoothing noisy data. The main idea behind this\n",
    "    approach is to make for each point a least-square fit with a\n",
    "    polynomial of high order over a odd-sized window centered at\n",
    "    the point.\n",
    "    Examples\n",
    "    --------\n",
    "    t = np.linspace(-4, 4, 500)\n",
    "    y = np.exp( -t**2 ) + np.random.normal(0, 0.05, t.shape)\n",
    "    ysg = savitzky_golay(y, window_size=31, order=4)\n",
    "    import matplotlib.pyplot as plt\n",
    "    plt.plot(t, y, label='Noisy signal')\n",
    "    plt.plot(t, np.exp(-t**2), 'k', lw=1.5, label='Original signal')\n",
    "    plt.plot(t, ysg, 'r', label='Filtered signal')\n",
    "    plt.legend()\n",
    "    plt.show()\n",
    "    References\n",
    "    ----------\n",
    "    .. [1] A. Savitzky, M. J. E. Golay, Smoothing and Differentiation of\n",
    "       Data by Simplified Least Squares Procedures. Analytical\n",
    "       Chemistry, 1964, 36 (8), pp 1627-1639.\n",
    "    .. [2] Numerical Recipes 3rd Edition: The Art of Scientific Computing\n",
    "       W.H. Press, S.A. Teukolsky, W.T. Vetterling, B.P. Flannery\n",
    "       Cambridge University Press ISBN-13: 9780521880688\n",
    "    \"\"\"\n",
    "    import numpy as np\n",
    "    from math import factorial\n",
    "\n",
    "    # try:\n",
    "    window_size = np.abs(np.int64(window_size))\n",
    "    order = np.abs(np.int64(order))\n",
    "    # except ValueError as msg:\n",
    "    #     raise ValueError(\"window_size and order have to be of type int\")\n",
    "    # if window_size % 2 != 1 or window_size < 1:\n",
    "    #     raise TypeError(\"window_size size must be a positive odd number\")\n",
    "    # if window_size < order + 2:\n",
    "    #     raise TypeError(\"window_size is too small for the polynomials order\")\n",
    "    order_range = range(order+1)\n",
    "    half_window = (window_size -1) // 2\n",
    "    # precompute coefficients\n",
    "    b = np.mat([[k**i for i in order_range] for k in range(-half_window, half_window+1)])\n",
    "    m = np.linalg.pinv(b).A[deriv] * rate**deriv * factorial(deriv)\n",
    "    # pad the signal at the extremes with\n",
    "    # values taken from the signal itself\n",
    "    firstvals = y[0] - np.abs( y[1:half_window+1][::-1] - y[0] )\n",
    "    lastvals = y[-1] + np.abs(y[-half_window-1:-1][::-1] - y[-1])\n",
    "    y = np.concatenate((firstvals, y, lastvals))\n",
    "    return np.convolve( m[::-1], y, mode='valid')\n",
    "\n",
    "def local_min(y):\n",
    "    dy = y[1:]>y[:-1]\n",
    "    dy2 = dy[:-1] ^ dy[1:]\n",
    "    idx = np.nonzero(dy2)[0]\n",
    "    return idx[y[idx]>np.quantile(y[idx],.95)]\n",
    "\n",
    "def crossing(y):\n",
    "    M = np.median(y[W:])\n",
    "    dy = (y[1:]>M) & (y[:-1]<M)\n",
    "    dy2 = (y[1:]<M) & (y[:-1]>M)\n",
    "    return np.nonzero( dy | dy2 )[0]\n",
    "\n",
    "W = 1000\n",
    "S = 200\n",
    "D = 10\n",
    "t = 3\n",
    "L = 10000\n",
    "tss = TSM(t=t,D=D,A=4,S=S,W=W, normalize=True, sample=ord('f'))\n",
    "seqs = np.random.randint(0,4,size=(2,L))\n",
    "sh = np.random.randint(1000)\n",
    "indices = np.sort(np.random.permutation(L-sh)[:int(L*.85)])\n",
    "seqs[1][indices] = seqs[0][indices+sh]\n",
    "sketches = tss.sketch_all(seqs)\n",
    "\n",
    "plt.figure(figsize=(20,8))\n",
    "R = np.arange(L)\n",
    "for si,(s, (sk,ind)) in enumerate(zip([0,sh],sketches)):\n",
    "    y = np.sum(sk**2,axis=1)\n",
    "    min_indices = minimizers(y, S)\n",
    "    yhat = savitzky_golay(y, S, 2)\n",
    "    M = np.std(yhat[W:]) * 1.2\n",
    "    # plt.plot(R,yhat)\n",
    "    min_indices = local_min(yhat)\n",
    "    # min_indices = crossing(yhat)\n",
    "\n",
    "    plt.plot(R[min_indices]+s,y[min_indices]+si*M,'gx',markersize=10)\n",
    "    # yhat[:W] = None\n",
    "    plt.plot(R+s,y[R]+si*M)\n",
    "    # avg_len = len(y)/len(min_indices) if min_indices==[] else -1\n",
    "    print(f'# min = {len(min_indices)}, avg stride = {len(y)/len(min_indices):.0f}')\n"
   ],
   "metadata": {
    "collapsed": false,
    "pycharm": {
     "name": "#%%\n"
    }
   }
  },
  {
   "cell_type": "code",
   "execution_count": 762,
   "outputs": [
    {
     "data": {
      "text/plain": "(49,)"
     },
     "execution_count": 762,
     "metadata": {},
     "output_type": "execute_result"
    }
   ],
   "source": [
    "y.shape"
   ],
   "metadata": {
    "collapsed": false,
    "pycharm": {
     "name": "#%%\n"
    }
   }
  },
  {
   "cell_type": "code",
   "execution_count": null,
   "outputs": [],
   "source": [],
   "metadata": {
    "collapsed": false,
    "pycharm": {
     "name": "#%%\n"
    }
   }
  }
 ],
 "metadata": {
  "kernelspec": {
   "display_name": "Python 3",
   "language": "python",
   "name": "python3"
  },
  "language_info": {
   "codemirror_mode": {
    "name": "ipython",
    "version": 2
   },
   "file_extension": ".py",
   "mimetype": "text/x-python",
   "name": "python",
   "nbconvert_exporter": "python",
   "pygments_lexer": "ipython2",
   "version": "2.7.6"
  }
 },
 "nbformat": 4,
 "nbformat_minor": 0
}