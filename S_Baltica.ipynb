{
 "cells": [
  {
   "cell_type": "code",
   "execution_count": 1,
   "metadata": {
    "collapsed": true
   },
   "outputs": [],
   "source": [
    "import tensorsketch as ts\n",
    "import tqdm\n",
    "import numpy as np\n",
    "from Bio import SeqIO\n",
    "import glob\n",
    "import matplotlib.pyplot as plt\n",
    "\n",
    "import edlib"
   ]
  },
  {
   "cell_type": "code",
   "execution_count": 2,
   "outputs": [],
   "source": [
    "kmer_size = 8               #@param {type:\"slider\",min:1,max:32,step:1}\n",
    "tuple_size = 3              #@param {type:\"slider\",min:1,max:10,step:1}\n",
    "sketch_dim = 10             #@param {type:\"slider\",min:10,max:300,step:10}\n",
    "run_cuda_models = False     #@param {type:\"boolean\"}\n",
    "alphabet_size = 4\n",
    "seq_len = 5000000\n",
    "\n",
    "window = 100000\n",
    "stride = 20000\n",
    "normalize = True\n",
    "sample = ord('m')\n",
    "\n",
    "common = dict(A=alphabet_size,D=sketch_dim)\n",
    "tss = ts.TSS(t=tuple_size, S=stride, W=window, **common)\n",
    "\n",
    "tsm = ts.TSM(t=tuple_size, S=stride, W=window, normalize=normalize,sample=sample,**common)"
   ],
   "metadata": {
    "collapsed": false,
    "pycharm": {
     "name": "#%%\n"
    }
   }
  },
  {
   "cell_type": "code",
   "execution_count": 3,
   "outputs": [
    {
     "name": "stdout",
     "output_type": "stream",
     "text": [
      "['/Users/amirjoudaki/Downloads/S_Baltica_new/S_Baltica_OS223.new.new.all.fna', '/Users/amirjoudaki/Downloads/S_Baltica_new/S_Baltica_OS675.new.new.all.fna', '/Users/amirjoudaki/Downloads/S_Baltica_new/S_Baltica_OS117.new.new.all.fna', '/Users/amirjoudaki/Downloads/S_Baltica_new/S_Baltica_OS195.new.new.all.fna', '/Users/amirjoudaki/Downloads/S_Baltica_new/S_Baltica_OS185.new.new.all.fna', '/Users/amirjoudaki/Downloads/S_Baltica_new/S_Baltica_OS625.new.new.all.fna', '/Users/amirjoudaki/Downloads/S_Baltica_new/S_Baltica_BA175.new.new.all.fna', '/Users/amirjoudaki/Downloads/S_Baltica_new/S_Baltica_OS155.new.new.all.fna']\n"
     ]
    },
    {
     "data": {
      "text/plain": "[{'file': '/Users/amirjoudaki/Downloads/S_Baltica_new/S_Baltica_OS223.new.new.all.fna',\n  'id': 'CP001252.1',\n  'name': 'CP001252.1',\n  'description': 'CP001252.1 Shewanella baltica OS223 chromosome, complete genome 0',\n  'seq': Seq('TTTTTTAAGGATAGCGATCCTTGAGATCTCGCTATAGAATACACCTCTTTTTTG...GCG'),\n  'array': array([3, 3, 3, ..., 2, 1, 2], dtype=int8),\n  'rarray': array([3, 3, 3, ..., 2, 1, 2], dtype=int8)},\n {'file': '/Users/amirjoudaki/Downloads/S_Baltica_new/S_Baltica_OS675.new.new.all.fna',\n  'id': 'CP002383.1',\n  'name': 'CP002383.1',\n  'description': 'CP002383.1 Shewanella baltica OS678, complete genome 0',\n  'seq': Seq('TTTAAGGATAGCGATCCTTGAGATCTCGCTATAGAATACACCTCTTTTTTGATG...TAA'),\n  'array': array([3, 3, 3, ..., 3, 0, 0], dtype=int8),\n  'rarray': array([3, 3, 3, ..., 3, 0, 0], dtype=int8)},\n {'file': '/Users/amirjoudaki/Downloads/S_Baltica_new/S_Baltica_OS117.new.new.all.fna',\n  'id': 'C_017579.1',\n  'name': 'C_017579.1',\n  'description': 'C_017579.1 Shewanella baltica OS117, complete sequence 0',\n  'seq': Seq('TTAAGCAGATAAACGAGCGCGACCTTTCGCACGACGACGTGCAAGCACCTTACG...ACT'),\n  'array': array([3, 3, 0, ..., 0, 1, 3], dtype=int8),\n  'rarray': array([3, 3, 0, ..., 0, 1, 3], dtype=int8)},\n {'file': '/Users/amirjoudaki/Downloads/S_Baltica_new/S_Baltica_OS195.new.new.all.fna',\n  'id': 'CP000891.1',\n  'name': 'CP000891.1',\n  'description': 'CP000891.1 Shewanella baltica OS195 chromosome, complete genome 0',\n  'seq': Seq('AAAGAGGCCGAATTGTAATCACAATACTTAGTCACGTCAACAACGAAAGTAAGT...CAA'),\n  'array': array([0, 0, 0, ..., 1, 0, 0], dtype=int8),\n  'rarray': array([0, 0, 0, ..., 1, 0, 0], dtype=int8)},\n {'file': '/Users/amirjoudaki/Downloads/S_Baltica_new/S_Baltica_OS185.new.new.all.fna',\n  'id': 'C_009665.1',\n  'name': 'C_009665.1',\n  'description': 'C_009665.1 Shewanella baltica OS185, complete sequence 0',\n  'seq': Seq('AAAGAGGCCGAATTGTAATCACAATACTTAGTCACGTCAACAACGAAAGTAAGT...CTT'),\n  'array': array([0, 0, 0, ..., 1, 3, 3], dtype=int8),\n  'rarray': array([0, 0, 0, ..., 1, 3, 3], dtype=int8)},\n {'file': '/Users/amirjoudaki/Downloads/S_Baltica_new/S_Baltica_OS625.new.new.all.fna',\n  'id': 'Z_AGEX01000053.1',\n  'name': 'Z_AGEX01000053.1',\n  'description': 'Z_AGEX01000053.1 Shewanella baltica OS625 ctg111, whole genome shotgun sequence 0',\n  'seq': Seq('AATATGATTGCTATTGCGAGACTCATCGCTCATCAATTGAAAGACAATAAACCA...GTG'),\n  'array': array([0, 0, 3, ..., 2, 3, 2], dtype=int8),\n  'rarray': array([0, 0, 3, ..., 2, 3, 2], dtype=int8)},\n {'file': '/Users/amirjoudaki/Downloads/S_Baltica_new/S_Baltica_BA175.new.new.all.fna',\n  'id': 'C_017571.1',\n  'name': 'C_017571.1',\n  'description': 'C_017571.1 Shewanella baltica BA175, complete sequence 0',\n  'seq': Seq('TTTTTTAAGGATAGCGATCCTTGAGATCTCGCTATAGAATACACCTCTTTTTTG...GCA'),\n  'array': array([3, 3, 3, ..., 2, 1, 0], dtype=int8),\n  'rarray': array([3, 3, 3, ..., 2, 1, 0], dtype=int8)},\n {'file': '/Users/amirjoudaki/Downloads/S_Baltica_new/S_Baltica_OS155.new.new.all.fna',\n  'id': 'CP000563.1',\n  'name': 'CP000563.1',\n  'description': 'CP000563.1 Shewanella baltica OS155 chromosome, complete genome 0',\n  'seq': Seq('GAATACACCTCTTTTTTGATGATCTTTTGGGGATAACTAAGTGGCTGTTTCACT...GGG'),\n  'array': array([2, 0, 0, ..., 2, 2, 2], dtype=int8),\n  'rarray': array([2, 0, 0, ..., 2, 2, 2], dtype=int8)}]"
     },
     "execution_count": 3,
     "metadata": {},
     "output_type": "execute_result"
    }
   ],
   "source": [
    "\n",
    "# Map from sequence characters to internal integer representation.\n",
    "_char_map: dict[str, int] = {'A': 0, 'C': 1, 'G': 2, 'T': 3}\n",
    "_char_comp: dict[str, str] = {'A': 'T', 'T': 'A', 'G': 'C', 'C': 'G'}\n",
    "\n",
    "def reverse_complement(s) -> np.ndarray:\n",
    "    char_list = np.full(len(s), -1, dtype=np.int8)\n",
    "    for i in range(len(s)):\n",
    "        char_list[i] = _char_map[_char_comp[s[-i-1]]]\n",
    "    return char_list\n",
    "\n",
    "# Given the char_map above, returns an array of length 256 mapping bytes to\n",
    "# internal integers. -1 signals unknown bytes.\n",
    "def seq2array(s) -> np.ndarray:\n",
    "    char_list = np.full(len(s), -1, dtype=np.int8)\n",
    "    for i,k in enumerate(s):\n",
    "        char_list[i] = _char_map[k]\n",
    "    return char_list\n",
    "\n",
    "data = \"/Users/amirjoudaki/Downloads/S_Baltica_new\"\n",
    "files = glob.glob(data + '/*')\n",
    "print(files)\n",
    "\n",
    "all_seqs = []\n",
    "for file in files:\n",
    "    records = SeqIO.to_dict(SeqIO.parse(file, \"fasta\"))\n",
    "    for name,record in records.items():\n",
    "        seq = dict(file = file, id=record.id, name=record.name, description=record.description)\n",
    "        seq['seq'] = record.seq\n",
    "        seq['array'] = seq2array(record.seq)\n",
    "        seq['rarray'] = seq2array(record.seq)\n",
    "        all_seqs.append(seq)\n",
    "\n",
    "all_seqs"
   ],
   "metadata": {
    "collapsed": false,
    "pycharm": {
     "name": "#%%\n"
    }
   }
  },
  {
   "cell_type": "code",
   "execution_count": 5,
   "outputs": [
    {
     "name": "stderr",
     "output_type": "stream",
     "text": [
      "100%|██████████| 8/8 [01:22<00:00, 10.36s/it]"
     ]
    },
    {
     "name": "stdout",
     "output_type": "stream",
     "text": [
      "CPU times: user 1min 5s, sys: 7.57 s, total: 1min 12s\n",
      "Wall time: 1min 22s\n"
     ]
    },
    {
     "name": "stderr",
     "output_type": "stream",
     "text": [
      "\n"
     ]
    }
   ],
   "source": [
    "%%time\n",
    "for seq in tqdm.tqdm(all_seqs,total=len(all_seqs)):\n",
    "    # seq['sketch'] = dict(name='tss',\n",
    "    #                      array=tss.sketch(seq['array'],flatten=False),\n",
    "    #                      rarray=tss.sketch(seq['rarray'],flatten=False))\n",
    "    sketch, inds = tsm.sketch(seq['array'])\n",
    "    rsketch, rinds = tsm.sketch(seq['rarray'])\n",
    "    seq['sketch'] = dict(name='tsm',\n",
    "                         array=sketch,\n",
    "                         inds=inds,\n",
    "                         rarray=rsketch,\n",
    "                         rinds=rinds)"
   ],
   "metadata": {
    "collapsed": false,
    "pycharm": {
     "name": "#%%\n"
    }
   }
  },
  {
   "cell_type": "code",
   "execution_count": 29,
   "outputs": [
    {
     "data": {
      "text/plain": "[<matplotlib.lines.Line2D at 0x7f87b3ec6340>]"
     },
     "execution_count": 29,
     "metadata": {},
     "output_type": "execute_result"
    },
    {
     "data": {
      "text/plain": "<Figure size 432x288 with 1 Axes>",
      "image/png": "[encoded data removed]"
     },
     "metadata": {
      "needs_background": "light"
     },
     "output_type": "display_data"
    }
   ],
   "source": [
    "import edlib\n",
    "import pandas as pd\n",
    "si, sj = 0, 2\n",
    "sk1, sk2 = all_seqs[si]['sketch']['array'], all_seqs[sj]['sketch']['array']\n",
    "dists = []\n",
    "for i,s1 in enumerate(sk1):\n",
    "    for j,s2 in enumerate(sk2):\n",
    "        n1, n2 = np.linalg.norm(s1), np.linalg.norm(s2)\n",
    "        if n1==0 or n2==0:\n",
    "            continue\n",
    "        d = np.linalg.norm(s1/n1-s2/n2)\n",
    "        dists.append((i,j,d))\n",
    "dists = np.array(dists)\n",
    "idx = np.argsort(dists[:,2])\n",
    "dists = dists[idx,:]\n",
    "plt.plot(dists[:,2])"
   ],
   "metadata": {
    "collapsed": false,
    "pycharm": {
     "name": "#%%\n"
    }
   }
  },
  {
   "cell_type": "code",
   "execution_count": null,
   "outputs": [
    {
     "name": "stderr",
     "output_type": "stream",
     "text": [
      " 90%|█████████ | 18/20 [01:00<00:08,  4.09s/it]"
     ]
    }
   ],
   "source": [
    "num_samples = 27\n",
    "uniform_dists = np.random.random(num_samples)*(dists[-1,2]-dists[0,2])+dists[0,2]\n",
    "uniform_indices = np.searchsorted(dists[:,2],uniform_dists)\n",
    "uniform_indices = list(range(20))\n",
    "df = pd.DataFrame(columns=['s1','s2','i1','i2','j1','j2','d','ed','ed_norm'])\n",
    "for index in tqdm.tqdm(uniform_indices):\n",
    "    i, j, d = int(dists[index,0]),int(dists[index,1]), dists[index,2]\n",
    "    idx1,idx2 = all_seqs[si]['sketch']['inds'][i], all_seqs[sj]['sketch']['inds'][j]\n",
    "    if idx1<window or idx2<window:\n",
    "        continue\n",
    "    seq1, seq2 = all_seqs[si]['seq'][idx1-window:idx1],all_seqs[sj]['seq'][idx2-window:idx2]\n",
    "    query, target = seq1,seq2\n",
    "    result = edlib.align(query,target,task='path')\n",
    "    nice = edlib.getNiceAlignment(result, query, target)\n",
    "    first = nice['matched_aligned'].find('|'*30)\n",
    "    query_aligned = nice['query_aligned'][:first]\n",
    "    target_aligned = nice['target_aligned'][:first]\n",
    "    d1, d2 = query_aligned.count('-'), target_aligned.count('-')\n",
    "    L = window - max(d1,d2)\n",
    "    result2 = edlib.align(target[d1:d1+L],query[d2:d2+L])\n",
    "\n",
    "    # print(\"\\n\".join([str(v) for k,v in nice.items()]))\n",
    "    df.loc[len(df),:] = (si,sj,idx1-window,idx1,idx2-window,idx2,d,result2['editDistance'],result2['editDistance']/L)\n",
    "df"
   ],
   "metadata": {
    "collapsed": false,
    "pycharm": {
     "name": "#%%\n",
     "is_executing": true
    }
   }
  },
  {
   "cell_type": "code",
   "execution_count": 165,
   "outputs": [
    {
     "data": {
      "text/plain": "  s1 s2      i1   i2      j1   j2         d     ed   ed_norm\n0  0  2  -99865  135  -99864  136  0.001377  12736  0.134035\n1  0  2  -99968   32  -99961   39  0.005932  44826  0.514798\n2  0  2  -99783  217  -99836  164  0.005975  44937  0.515681\n3  0  2  -99927   73  -99963   37  0.006726  44880  0.515027\n4  0  2  -99892  108  -99928   72  0.006984  44972  0.515551\n5  0  2  -99892  108  -99927   73  0.007097  44995  0.516371\n6  0  2  -99927   73  -99884  116  0.007422  44891  0.515195\n7  0  2  -99942   58  -99951   49  0.007451  44832  0.515198\n8  0  2  -99824  176  -99851  149  0.007972  44945  0.515708",
      "text/html": "<div>\n<style scoped>\n    .dataframe tbody tr th:only-of-type {\n        vertical-align: middle;\n    }\n\n    .dataframe tbody tr th {\n        vertical-align: top;\n    }\n\n    .dataframe thead th {\n        text-align: right;\n    }\n</style>\n<table border=\"1\" class=\"dataframe\">\n  <thead>\n    <tr style=\"text-align: right;\">\n      <th></th>\n      <th>s1</th>\n      <th>s2</th>\n      <th>i1</th>\n      <th>i2</th>\n      <th>j1</th>\n      <th>j2</th>\n      <th>d</th>\n      <th>ed</th>\n      <th>ed_norm</th>\n    </tr>\n  </thead>\n  <tbody>\n    <tr>\n      <th>0</th>\n      <td>0</td>\n      <td>2</td>\n      <td>-99865</td>\n      <td>135</td>\n      <td>-99864</td>\n      <td>136</td>\n      <td>0.001377</td>\n      <td>12736</td>\n      <td>0.134035</td>\n    </tr>\n    <tr>\n      <th>1</th>\n      <td>0</td>\n      <td>2</td>\n      <td>-99968</td>\n      <td>32</td>\n      <td>-99961</td>\n      <td>39</td>\n      <td>0.005932</td>\n      <td>44826</td>\n      <td>0.514798</td>\n    </tr>\n    <tr>\n      <th>2</th>\n      <td>0</td>\n      <td>2</td>\n      <td>-99783</td>\n      <td>217</td>\n      <td>-99836</td>\n      <td>164</td>\n      <td>0.005975</td>\n      <td>44937</td>\n      <td>0.515681</td>\n    </tr>\n    <tr>\n      <th>3</th>\n      <td>0</td>\n      <td>2</td>\n      <td>-99927</td>\n      <td>73</td>\n      <td>-99963</td>\n      <td>37</td>\n      <td>0.006726</td>\n      <td>44880</td>\n      <td>0.515027</td>\n    </tr>\n    <tr>\n      <th>4</th>\n      <td>0</td>\n      <td>2</td>\n      <td>-99892</td>\n      <td>108</td>\n      <td>-99928</td>\n      <td>72</td>\n      <td>0.006984</td>\n      <td>44972</td>\n      <td>0.515551</td>\n    </tr>\n    <tr>\n      <th>5</th>\n      <td>0</td>\n      <td>2</td>\n      <td>-99892</td>\n      <td>108</td>\n      <td>-99927</td>\n      <td>73</td>\n      <td>0.007097</td>\n      <td>44995</td>\n      <td>0.516371</td>\n    </tr>\n    <tr>\n      <th>6</th>\n      <td>0</td>\n      <td>2</td>\n      <td>-99927</td>\n      <td>73</td>\n      <td>-99884</td>\n      <td>116</td>\n      <td>0.007422</td>\n      <td>44891</td>\n      <td>0.515195</td>\n    </tr>\n    <tr>\n      <th>7</th>\n      <td>0</td>\n      <td>2</td>\n      <td>-99942</td>\n      <td>58</td>\n      <td>-99951</td>\n      <td>49</td>\n      <td>0.007451</td>\n      <td>44832</td>\n      <td>0.515198</td>\n    </tr>\n    <tr>\n      <th>8</th>\n      <td>0</td>\n      <td>2</td>\n      <td>-99824</td>\n      <td>176</td>\n      <td>-99851</td>\n      <td>149</td>\n      <td>0.007972</td>\n      <td>44945</td>\n      <td>0.515708</td>\n    </tr>\n  </tbody>\n</table>\n</div>"
     },
     "execution_count": 165,
     "metadata": {},
     "output_type": "execute_result"
    }
   ],
   "source": [
    "df"
   ],
   "metadata": {
    "collapsed": false,
    "pycharm": {
     "name": "#%%\n"
    }
   }
  },
  {
   "cell_type": "code",
   "execution_count": 166,
   "outputs": [
    {
     "data": {
      "text/plain": "<matplotlib.collections.PathCollection at 0x7f8745fce370>"
     },
     "execution_count": 166,
     "metadata": {},
     "output_type": "execute_result"
    },
    {
     "data": {
      "text/plain": "<Figure size 432x288 with 1 Axes>",
      "image/png": "[encoded data removed]"
     },
     "metadata": {
      "needs_background": "light"
     },
     "output_type": "display_data"
    }
   ],
   "source": [
    "plt.scatter(df.d, df.ed_norm)"
   ],
   "metadata": {
    "collapsed": false,
    "pycharm": {
     "name": "#%%\n"
    }
   }
  },
  {
   "cell_type": "code",
   "execution_count": 80,
   "outputs": [
    {
     "name": "stdout",
     "output_type": "stream",
     "text": [
      "27\n"
     ]
    },
    {
     "data": {
      "text/plain": "<matplotlib.collections.PathCollection at 0x7f87b41ac130>"
     },
     "execution_count": 80,
     "metadata": {},
     "output_type": "execute_result"
    },
    {
     "data": {
      "text/plain": "<Figure size 432x288 with 1 Axes>",
      "image/png": "[encoded data removed]"
     },
     "metadata": {
      "needs_background": "light"
     },
     "output_type": "display_data"
    }
   ],
   "source": [
    "inds = dists[:,2]<0.01\n",
    "print(sum(inds))\n",
    "plt.scatter(dists[inds,0],dists[inds,1])"
   ],
   "metadata": {
    "collapsed": false,
    "pycharm": {
     "name": "#%%\n"
    }
   }
  },
  {
   "cell_type": "code",
   "execution_count": null,
   "outputs": [],
   "source": [
    "%matplotlib inline\n",
    "import matplotlib.pyplot as plt\n",
    "\n",
    "N = len(all_seqs)\n",
    "\n",
    "for i in range(N):\n",
    "    for j in range(i,N):\n",
    "        sk1 = all_seqs[i]['sketch']['array']\n",
    "        sk2 = all_seqs[j]['sketch']['array']\n",
    "        sk1 = sk1.transpose() / np.sqrt(np.sum(sk1**2,axis=1))\n",
    "        sk2 = sk2.transpose() / np.sqrt(np.sum(sk2**2,axis=1))\n",
    "        prod = np.matmul(sk1.transpose(),sk2)\n",
    "        angle = np.arccos(prod) / np.pi\n",
    "\n",
    "        plt.matshow(angle)\n",
    "        plt.colorbar()\n",
    "        plt.title(f'seq {i} vs. seq {j}')\n",
    "        plt.show()"
   ],
   "metadata": {
    "collapsed": false,
    "pycharm": {
     "name": "#%%\n",
     "is_executing": true
    }
   }
  },
  {
   "cell_type": "code",
   "execution_count": 90,
   "outputs": [
    {
     "data": {
      "text/plain": "(267, 267)"
     },
     "execution_count": 90,
     "metadata": {},
     "output_type": "execute_result"
    }
   ],
   "source": [
    "dists.shape"
   ],
   "metadata": {
    "collapsed": false,
    "pycharm": {
     "name": "#%%\n"
    }
   }
  },
  {
   "cell_type": "code",
   "execution_count": 86,
   "outputs": [
    {
     "data": {
      "text/plain": "[<matplotlib.lines.Line2D at 0x7fd09cccdca0>]"
     },
     "execution_count": 86,
     "metadata": {},
     "output_type": "execute_result"
    },
    {
     "data": {
      "text/plain": "<Figure size 432x288 with 1 Axes>",
      "image/png": "[encoded data removed]"
     },
     "metadata": {
      "needs_background": "light"
     },
     "output_type": "display_data"
    }
   ],
   "source": [
    "x = np.arange(-1,1,.01)\n",
    "plt.plot(x,np.arccos(x))"
   ],
   "metadata": {
    "collapsed": false,
    "pycharm": {
     "name": "#%%\n"
    }
   }
  },
  {
   "cell_type": "code",
   "execution_count": 87,
   "outputs": [
    {
     "data": {
      "text/plain": "3.141592653589793"
     },
     "execution_count": 87,
     "metadata": {},
     "output_type": "execute_result"
    }
   ],
   "source": [],
   "metadata": {
    "collapsed": false,
    "pycharm": {
     "name": "#%%\n"
    }
   }
  },
  {
   "cell_type": "code",
   "execution_count": 87,
   "outputs": [],
   "source": [],
   "metadata": {
    "collapsed": false,
    "pycharm": {
     "name": "#%%\n"
    }
   }
  },
  {
   "cell_type": "code",
   "execution_count": null,
   "outputs": [],
   "source": [],
   "metadata": {
    "collapsed": false,
    "pycharm": {
     "name": "#%%\n"
    }
   }
  }
 ],
 "metadata": {
  "kernelspec": {
   "display_name": "Python 3",
   "language": "python",
   "name": "python3"
  },
  "language_info": {
   "codemirror_mode": {
    "name": "ipython",
    "version": 2
   },
   "file_extension": ".py",
   "mimetype": "text/x-python",
   "name": "python",
   "nbconvert_exporter": "python",
   "pygments_lexer": "ipython2",
   "version": "2.7.6"
  }
 },
 "nbformat": 4,
 "nbformat_minor": 0
}