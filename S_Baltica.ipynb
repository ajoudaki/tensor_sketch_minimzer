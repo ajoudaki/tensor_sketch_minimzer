{
 "cells": [
  {
   "cell_type": "code",
   "execution_count": 75,
   "metadata": {
    "collapsed": true
   },
   "outputs": [],
   "source": [
    "import tensorsketch as ts\n",
    "import tqdm\n",
    "import numpy as np\n",
    "from Bio import SeqIO\n",
    "import glob\n",
    "import matplotlib.pyplot as plt\n",
    "from numba import njit, prange, cuda, objmode\n",
    "import pandas as pd\n",
    "\n",
    "import edlib"
   ]
  },
  {
   "cell_type": "code",
   "execution_count": 92,
   "outputs": [],
   "source": [
    "kmer_size = 8               #@param {type:\"slider\",min:1,max:32,step:1}\n",
    "tuple_size = 3              #@param {type:\"slider\",min:1,max:10,step:1}\n",
    "sketch_dim = 20             #@param {type:\"slider\",min:10,max:300,step:10}\n",
    "run_cuda_models = False     #@param {type:\"boolean\"}\n",
    "alphabet_size = 4\n",
    "\n",
    "window = 10000\n",
    "stride = 5000\n",
    "normalize = True\n",
    "sample = ord('m')\n",
    "\n",
    "common = dict(A=alphabet_size,D=sketch_dim)\n",
    "tss = ts.TSS(t=tuple_size, S=stride, W=window, **common)\n",
    "\n",
    "tsm = ts.TSM(t=tuple_size, S=stride, W=window, normalize=normalize,sample=sample,**common)"
   ],
   "metadata": {
    "collapsed": false,
    "pycharm": {
     "name": "#%%\n"
    }
   }
  },
  {
   "cell_type": "code",
   "execution_count": 106,
   "outputs": [
    {
     "name": "stdout",
     "output_type": "stream",
     "text": [
      "['/Users/amirjoudaki/Downloads/S_Baltica_new/S_Baltica_OS223.new.new.all.fna', '/Users/amirjoudaki/Downloads/S_Baltica_new/S_Baltica_OS675.new.new.all.fna', '/Users/amirjoudaki/Downloads/S_Baltica_new/S_Baltica_OS117.new.new.all.fna', '/Users/amirjoudaki/Downloads/S_Baltica_new/S_Baltica_OS195.new.new.all.fna', '/Users/amirjoudaki/Downloads/S_Baltica_new/S_Baltica_OS185.new.new.all.fna', '/Users/amirjoudaki/Downloads/S_Baltica_new/S_Baltica_OS625.new.new.all.fna', '/Users/amirjoudaki/Downloads/S_Baltica_new/S_Baltica_BA175.new.new.all.fna', '/Users/amirjoudaki/Downloads/S_Baltica_new/S_Baltica_OS155.new.new.all.fna']\n"
     ]
    },
    {
     "data": {
      "text/plain": "[{'file': '/Users/amirjoudaki/Downloads/S_Baltica_new/S_Baltica_OS223.new.new.all.fna',\n  'id': 'CP001252.1',\n  'name': 'CP001252.1',\n  'description': 'CP001252.1 Shewanella baltica OS223 chromosome, complete genome 0',\n  'seq': Seq('TTTTTTAAGGATAGCGATCCTTGAGATCTCGCTATAGAATACACCTCTTTTTTG...GCG'),\n  'array': array([3, 3, 3, ..., 2, 1, 2], dtype=int8),\n  'rarray': array([3, 3, 3, ..., 2, 1, 2], dtype=int8)},\n {'file': '/Users/amirjoudaki/Downloads/S_Baltica_new/S_Baltica_OS675.new.new.all.fna',\n  'id': 'CP002383.1',\n  'name': 'CP002383.1',\n  'description': 'CP002383.1 Shewanella baltica OS678, complete genome 0',\n  'seq': Seq('TTTAAGGATAGCGATCCTTGAGATCTCGCTATAGAATACACCTCTTTTTTGATG...TAA'),\n  'array': array([3, 3, 3, ..., 3, 0, 0], dtype=int8),\n  'rarray': array([3, 3, 3, ..., 3, 0, 0], dtype=int8)},\n {'file': '/Users/amirjoudaki/Downloads/S_Baltica_new/S_Baltica_OS117.new.new.all.fna',\n  'id': 'C_017579.1',\n  'name': 'C_017579.1',\n  'description': 'C_017579.1 Shewanella baltica OS117, complete sequence 0',\n  'seq': Seq('TTAAGCAGATAAACGAGCGCGACCTTTCGCACGACGACGTGCAAGCACCTTACG...ACT'),\n  'array': array([3, 3, 0, ..., 0, 1, 3], dtype=int8),\n  'rarray': array([3, 3, 0, ..., 0, 1, 3], dtype=int8)},\n {'file': '/Users/amirjoudaki/Downloads/S_Baltica_new/S_Baltica_OS195.new.new.all.fna',\n  'id': 'CP000891.1',\n  'name': 'CP000891.1',\n  'description': 'CP000891.1 Shewanella baltica OS195 chromosome, complete genome 0',\n  'seq': Seq('AAAGAGGCCGAATTGTAATCACAATACTTAGTCACGTCAACAACGAAAGTAAGT...CAA'),\n  'array': array([0, 0, 0, ..., 1, 0, 0], dtype=int8),\n  'rarray': array([0, 0, 0, ..., 1, 0, 0], dtype=int8)},\n {'file': '/Users/amirjoudaki/Downloads/S_Baltica_new/S_Baltica_OS185.new.new.all.fna',\n  'id': 'C_009665.1',\n  'name': 'C_009665.1',\n  'description': 'C_009665.1 Shewanella baltica OS185, complete sequence 0',\n  'seq': Seq('AAAGAGGCCGAATTGTAATCACAATACTTAGTCACGTCAACAACGAAAGTAAGT...CTT'),\n  'array': array([0, 0, 0, ..., 1, 3, 3], dtype=int8),\n  'rarray': array([0, 0, 0, ..., 1, 3, 3], dtype=int8)},\n {'file': '/Users/amirjoudaki/Downloads/S_Baltica_new/S_Baltica_OS625.new.new.all.fna',\n  'id': 'Z_AGEX01000053.1',\n  'name': 'Z_AGEX01000053.1',\n  'description': 'Z_AGEX01000053.1 Shewanella baltica OS625 ctg111, whole genome shotgun sequence 0',\n  'seq': Seq('AATATGATTGCTATTGCGAGACTCATCGCTCATCAATTGAAAGACAATAAACCA...GTG'),\n  'array': array([0, 0, 3, ..., 2, 3, 2], dtype=int8),\n  'rarray': array([0, 0, 3, ..., 2, 3, 2], dtype=int8)},\n {'file': '/Users/amirjoudaki/Downloads/S_Baltica_new/S_Baltica_BA175.new.new.all.fna',\n  'id': 'C_017571.1',\n  'name': 'C_017571.1',\n  'description': 'C_017571.1 Shewanella baltica BA175, complete sequence 0',\n  'seq': Seq('TTTTTTAAGGATAGCGATCCTTGAGATCTCGCTATAGAATACACCTCTTTTTTG...GCA'),\n  'array': array([3, 3, 3, ..., 2, 1, 0], dtype=int8),\n  'rarray': array([3, 3, 3, ..., 2, 1, 0], dtype=int8)},\n {'file': '/Users/amirjoudaki/Downloads/S_Baltica_new/S_Baltica_OS155.new.new.all.fna',\n  'id': 'CP000563.1',\n  'name': 'CP000563.1',\n  'description': 'CP000563.1 Shewanella baltica OS155 chromosome, complete genome 0',\n  'seq': Seq('GAATACACCTCTTTTTTGATGATCTTTTGGGGATAACTAAGTGGCTGTTTCACT...GGG'),\n  'array': array([2, 0, 0, ..., 2, 2, 2], dtype=int8),\n  'rarray': array([2, 0, 0, ..., 2, 2, 2], dtype=int8)}]"
     },
     "execution_count": 106,
     "metadata": {},
     "output_type": "execute_result"
    }
   ],
   "source": [
    "\n",
    "# Map from sequence characters to internal integer representation.\n",
    "_char_map: dict[str, int] = {'A': 0, 'C': 1, 'G': 2, 'T': 3}\n",
    "_char_comp: dict[str, str] = {'A': 'T', 'T': 'A', 'G': 'C', 'C': 'G'}\n",
    "\n",
    "\n",
    "def reverse_complement(s) -> np.ndarray:\n",
    "    char_list = np.full(len(s), -1, dtype=np.int8)\n",
    "    for i in range(len(s)):\n",
    "        char_list[i] = _char_map[_char_comp[s[-i-1]]]\n",
    "    return char_list\n",
    "\n",
    "# Given the char_map above, returns an array of length 256 mapping bytes to\n",
    "# internal integers. -1 signals unknown bytes.\n",
    "\n",
    "def seq2array(s) -> np.ndarray:\n",
    "    char_list = np.full(len(s), -1, dtype=np.int8)\n",
    "    for i,k in enumerate(s):\n",
    "        char_list[i] = _char_map[k]\n",
    "    return char_list\n",
    "\n",
    "data = \"/Users/amirjoudaki/Downloads/S_Baltica_new\"\n",
    "files = glob.glob(data + '/*')\n",
    "print(files)\n",
    "\n",
    "all_seqs = []\n",
    "for file in files:\n",
    "    records = SeqIO.to_dict(SeqIO.parse(file, \"fasta\"))\n",
    "    for name,record in records.items():\n",
    "        seq = dict(file = file, id=record.id, name=record.name, description=record.description)\n",
    "        seq['seq'] = record.seq\n",
    "        seq['array'] = seq2array(record.seq)\n",
    "        seq['rarray'] = seq2array(record.seq)\n",
    "        all_seqs.append(seq)\n",
    "\n",
    "all_seqs"
   ],
   "metadata": {
    "collapsed": false,
    "pycharm": {
     "name": "#%%\n"
    }
   }
  },
  {
   "cell_type": "code",
   "execution_count": 110,
   "outputs": [
    {
     "name": "stderr",
     "output_type": "stream",
     "text": [
      "100%|██████████| 8/8 [02:09<00:00, 16.21s/it]"
     ]
    },
    {
     "name": "stdout",
     "output_type": "stream",
     "text": [
      "CPU times: user 1min 2s, sys: 9.69 s, total: 1min 11s\n",
      "Wall time: 2min 9s\n"
     ]
    },
    {
     "name": "stderr",
     "output_type": "stream",
     "text": [
      "\n"
     ]
    }
   ],
   "source": [
    "%%time\n",
    "for seq in tqdm.tqdm(all_seqs,total=len(all_seqs)):\n",
    "    sketch, inds = tsm.sketch(seq['array'])\n",
    "    # rsketch, rinds = tsm.sketch(seq['rarray'])\n",
    "    seq['sketch'] = dict(name='tsm',\n",
    "                         array=sketch,\n",
    "                         inds=inds,\n",
    "                         # rarray=rsketch,\n",
    "                         # rinds=rinds\n",
    "                         )"
   ],
   "metadata": {
    "collapsed": false,
    "pycharm": {
     "name": "#%%\n"
    }
   }
  },
  {
   "cell_type": "code",
   "execution_count": 154,
   "outputs": [],
   "source": [
    "s1, s2 = 0, 5\n",
    "seq1, seq2 = all_seqs[s1]['seq'],all_seqs[s2]['seq']\n",
    "sk1, sk2 = all_seqs[s1]['sketch']['array'], all_seqs[s2]['sketch']['array']\n",
    "sk1 = sk1.transpose() / np.sqrt(np.nansum(sk1**2,axis=1))\n",
    "sk2 = sk2.transpose() / np.sqrt(np.nansum(sk2**2,axis=1))\n",
    "prod = np.matmul(sk1.transpose(),sk2)\n",
    "dists = np.array([(i,j,1-prod[i,j]) for i in range(prod.shape[0]) for j in range(prod.shape[1])])\n",
    "idx = np.argsort(dists[:,2])\n",
    "dists = dists[idx,:]"
   ],
   "metadata": {
    "collapsed": false,
    "pycharm": {
     "name": "#%%\n"
    }
   }
  },
  {
   "cell_type": "code",
   "execution_count": null,
   "outputs": [
    {
     "name": "stderr",
     "output_type": "stream",
     "text": [
      " 62%|██████▎   | 125/200 [00:53<00:33,  2.26it/s]"
     ]
    }
   ],
   "source": [
    "num_samples = 200\n",
    "uniform_dists = np.random.random(num_samples)**4 / 2\n",
    "uniform_indices = np.searchsorted(dists[:,2],uniform_dists)\n",
    "uniform_indices = list(range(num_samples))\n",
    "df = pd.DataFrame(columns=['s1','s2','i1','i2','j1','j2','d','ed','ed_norm','ed2','ed_norm2'])\n",
    "for index in tqdm.tqdm(uniform_indices):\n",
    "    i, j, d = int(dists[index,0]),int(dists[index,1]), dists[index,2]\n",
    "    idx1,idx2 = all_seqs[s1]['sketch']['inds'][i], all_seqs[s2]['sketch']['inds'][j]\n",
    "    query, target = seq1[idx1-window:idx1],seq2[idx2-window:idx2]\n",
    "    result = edlib.align(query,target,task='path')\n",
    "    if not result['cigar']:\n",
    "        continue\n",
    "    nice = edlib.getNiceAlignment(result, query, target)\n",
    "    first = nice['matched_aligned'].find('|'*15)\n",
    "    query_aligned = nice['query_aligned'][:first]\n",
    "    target_aligned = nice['target_aligned'][:first]\n",
    "    d1, d2 = query_aligned.count('-'), target_aligned.count('-')\n",
    "    L = window - max(d1,d2)\n",
    "    result2 = edlib.align(target[d1:d1+L],query[d2:d2+L])\n",
    "    ed, ed_norm = result['editDistance'], result['editDistance']/window\n",
    "    ed2, ed_norm2 = result2['editDistance'],result2['editDistance']/L\n",
    "\n",
    "    # print(\"\\n\".join([str(v) for k,v in nice.items()]))\n",
    "    df.loc[len(df),:] = (s1,s2,idx1-window,idx1,idx2-window,idx2,d,ed,ed_norm,ed2, ed_norm2)\n",
    "df"
   ],
   "metadata": {
    "collapsed": false,
    "pycharm": {
     "name": "#%%\n",
     "is_executing": true
    }
   }
  },
  {
   "cell_type": "code",
   "execution_count": null,
   "outputs": [],
   "source": [
    "plt.scatter([np.arccos(1-v) for v in df.d.values], df.ed_norm2)"
   ],
   "metadata": {
    "collapsed": false,
    "pycharm": {
     "name": "#%%\n",
     "is_executing": true
    }
   }
  },
  {
   "cell_type": "code",
   "execution_count": null,
   "outputs": [],
   "source": [
    "plt.scatter(df.i1, df.j1, c=df.ed_norm2)\n",
    "plt.colorbar()"
   ],
   "metadata": {
    "collapsed": false,
    "pycharm": {
     "name": "#%%\n",
     "is_executing": true
    }
   }
  },
  {
   "cell_type": "code",
   "execution_count": 150,
   "outputs": [
    {
     "name": "stdout",
     "output_type": "stream",
     "text": [
      "539, 1039, 2695293, 5198619 0.00869, 0.030\n"
     ]
    }
   ],
   "source": [
    "index = 20\n",
    "i, j, d = int(dists[index,0]),int(dists[index,1]), dists[index,2]\n",
    "\n",
    "d = np.linalg.norm(sk1[:,i]- sk2[:,j])\n",
    "idx1,idx2 = all_seqs[s1]['sketch']['inds'][i], all_seqs[s2]['sketch']['inds'][j]\n",
    "S1, S2 = seq1[idx1-window:idx1],seq2[idx2-window:idx2]\n",
    "query, target = S1,S2\n",
    "result = edlib.align(query,target,task='path')\n",
    "nice = edlib.getNiceAlignment(result, query, target)\n",
    "first = nice['matched_aligned'].find('|'*10)\n",
    "query_aligned = nice['query_aligned'][:first]\n",
    "target_aligned = nice['target_aligned'][:first]\n",
    "d1, d2 = query_aligned.count('-'), target_aligned.count('-')\n",
    "L = window - max(d1,d2)\n",
    "result2 = edlib.align(target[d1:d1+L],query[d2:d2+L])\n",
    "ed, ed_norm = result2['editDistance'],result2['editDistance']/L\n",
    "print(f'{i}, {j}, {idx1}, {idx2} {d:.5f}, {ed_norm:.3f}')\n"
   ],
   "metadata": {
    "collapsed": false,
    "pycharm": {
     "name": "#%%\n"
    }
   }
  },
  {
   "cell_type": "code",
   "execution_count": 146,
   "outputs": [
    {
     "name": "stdout",
     "output_type": "stream",
     "text": [
      "locations =  [(0, 9999)]\n",
      "match score =  0.956\n"
     ]
    },
    {
     "data": {
      "text/plain": "'----|----|--|-|||-------|----|---|---|-|--------|--|----||---||------|----|--||-|-----|--|---|-----|-|--|--|-|-|-----|---|--|--|---|-|--|----|--||-|---------|-|--|-||-|-----|||-----|--|-||--||---|--||------|----|-|-|-|---------------|----|--|------|---|------|-----||-|---------------|--||---|-|||-----||-|-|--|-|--|--|--||---|---------|----|---|-----|---|||----------|||--|--|----------|-|-|----|--|-|---------------||-------------|--|-|-----|------|-|-|-|--------|--------|||-------|-|--|--------||---|--|--------|----||---|----||-||-------|--|----|--|-||||||||||||||||||||||||||||||||||||||||||||||||||||||||||||||||||||||||||||||||||||||||||||||||||||||||||||||||||||||||||||||||||||||||||||||||||||||||||||||||||||||||||||||||||||||||||||||||||||||||||||||||||||||||||||||||||||||||||||||||||||||||||||||||||||||||||||||||||||||||||||||||||||||||||||||||||||||||||||||||||||||||||||||||||||||||||||||||||||||||||||||||||||||||||||||||||||||||||||||||||||||||||||||||||||||||||||||||||||||||||||||||||||||||||||||||||||||||||||||||||||||||||||||||||||||||||||||||||||||||||||||||||||||||||||||||||||||||.|||||||||||||||||||||||||||||||||||||||||||||||||||||||||||||||||||||||||||||||||||||||||||||||||||||||||||||||||||||||||||||||||||||||||||||||||||||||||||||||||||||||||||||||||||||||||||||||||||||||||||||||||||||||||||||||||||||||||||||||||||||||||||||||||||||||||||||||||||||||||||||||||||||||||||||||||||||||||||||||||||||||||||||||||||||||||||||||||||||||||||||||||||||||||||||||||||||||||||||||||||||||||||||||||||||||||||||||||||||||||||||||||||||||||||||||||||||||||||||||||||||||||||||||||||||||||||||||||||||||||||||||||||||||||||||||||||||||||||||||||||||||||||||||||||||||||||||||||||||||||||||||||||||||||||||||||||||||||||||||||||||||||||||||||||||||||||||.||||||||||||||||||||||||||||||||||||||||||||||||||||||||||||||||||||||||||||||||||||||||||||||||||||||||||||||||||||||||||||||||||||||||||||||||||||||||||||||||||||||||||||||||||||||||||||||||||||||||||||||||||||||||||||||||||||||||||||||||||||||||||||||||||||||||||||||||||||||||||||||||||||||||||||||||||||||||||||||||||||||||||||||||||||||||||||||||||||||||||||||||||||||||||||||||||||||||||||||||||||||||||||||||||||||||||||||||||||||||||||||||||||||||||||||||||||||||||||||||||||||||||||||||||||||||||||||||||||||||||||||||||||||||||||||||||||||||||||||||||||||||||.||||||||||||||||||||||||||||||||||||||||||||||||||||||||||||||||||||||||||||||||||||||||||||||||||||||||||||||||||||||||||||||||||||||||||||||||||||||||||||||||||||||||||||||||||||||||||||||||||||||||||||||||||||||||||||||||||||||||||||||||||||||||||||||||||||||||||||||||||||||||||||||||||||||||||||||||||||||||||||||||||||||||||||||||||||||||||||||||||||||||||||||||||||||||||||||||||||||||||||||||||||||||||||||||||||||||||||||||||||||||||||||||||||||||||||||||||||||||||||||||||||||||||||||||||||||||||||||||||||||||||||||||||||||||||||||||||||||||||||||||||||||||||||||||||||||||||||||||||||||||||||||||||||||||||||||||||||||||||||||||||||||||||||.||||||||||||||||||||||||||||||||||||||||||||||||||||||||||||||||||||||||||||||||||||||||||||||||||||||||||||||||||||||||||||||||||||||||||||||||||||||||||||||||||||||||||||||||||||||||||||||||||||||||||||||||||||||||||||||||||||||||||||||||||||||||||||||||||||||||||||||||||||||||||||||||||||||||||||||||||||||||||||||||||||||||||||||||||||||||||||||||||||||||||||||||||||||||||||||||||||||||||||||||||||||||||||||||||||||||||||||||||||||||||||||||||||||||||||||||||||||||||||||||||||||||||||||||||||||||||||||||||||||||||||||||||||||||||||||||||||||||||||||||||||||||||||||||||||||||||||||||||||||||||||||||||||||||||||||||||||||||||||||||||||||||||||||||||||||||||||||||||||||||||||||||||||||||||||||||||||||||||||||||||||||||||||||||||||||||||||||||||||||||||||||||||||||||||||||||||||||||||||||||||||||||||||||||||||||||||||||||||||||||||||||||||||||||||||||||||||||||||||||||||||||||||||||||||||||||||||||||||||||||||||||||||||||||||||||||||||||||||||||||||||||||||||||||||||||||||||||||||||||||||||||||||||||||||||||||||||||||||||||||||||||||||||||||||||||||||||||||||||||||||||||||||||||||||||||||||||||||||||||||||||||||||||||||||||||||||||||||||||||||||||||||||||||||||||||||||||||||||||||||||||||||||||||||||||||||||||||||||||||||||||||||||||||||||||||||||||||||||||||||||||||||||||||||||||||||||||||||||||||||||||||||||||||||||||||||||||||||||||||||||||||||||||||||||||||||||||||||||||||||||||||||||||||||||||||||||||||||||||||||||||||||||||||||||||||||||||||||||||||||||||||||||||||||||||||||||||||||||||||||||||||||||||||||||||||||||||||||||||||||||||||||||||||||||||||||||||||||||||||||||||||||||||||||||||||||||||||||||||||||||||||||||||||||||||||||||||||||||||||||||||||||||||||||||||||||||||||||||||||||||||||||||||||||||||||||||||||||||||||||||||||||||||||||||||||||||||||||||||||||||||||||||||||||||||||||||||||||||||||||||||||||||||||||||||||||||||||||||||||||||||||||||||||||||||||||||||||||||||||||||||||||||||||||||||||||||||||||||||||||||||||||||||||||||||||||||||||||||||||||.||||||||||||||||||||||||||||||||.||||||||||||||||||||||||||||||||||||||||||||||||||||||||||||||||||||||||||||||||||||||||||||||||||||||||||||||||||||||||||||||||||||||||||||||||||||||||||||||||||||||||||||||||||||||||||||||||||||||||||||||||||||||||||||||||||||||||||||||||||||||||||||||||||||||||||||||||||||||||||||||||||||||||||||||||||||||||||||||||||||||||||||||||||||||||||||||||||||||||||||||||||||||||||||||||||||||||||||||||||||||||||||||||||||||||||||||||||||||||||||||||||||||||||||||||||||||||||||||||||||||||||||||||||||||||||||||||||||||||||||||||||||||||||||||||||||||||||||||||||||||||.||||||||||||||||||||||||||||||||||||||||||||||||||||||||||||||||||||||||||||||||||||||||||||||||||||||||||||||.|||||||||||||||||||||||||||||||||||||||||||||||||||||||||||||||||||||||||||||||||||||||||||||||||||||||||||||||||||||||||||||||||||||||||.||||||||||||||||||||||||||||||||||||||||||||||||||||||||||||||||||||||||||||||||||||||||||||||||||||||||||||||||||||||||||||||||||||||.|||||||||||||||||||||||.|||||||||||||||||||||||||||||||||||||||||||||||||||||||||||||||||||||||||||||||||||||||||||||||||||||||||||||||||.||||||||||||||||||||||||||||||||||||||||||||||||||||||||||||||||||||||||||||||||||||||||||||||||||||||||||||||||||||||||||||||||||||||||||||||||||||||||||||||||||||||||||||||||||||||||||||||||||||||||||||||||||||||||||||||||||||||||||||||||||||||||||||||||||||||||||||||||||||||||||||||||||||||||||||||||||||||||||||||||||||||||||||||||||||||||||||||||||||||||||||||||||||||||||||||||||||||||||||||||||||||||||||||||||||||||||||||||||||||||||||||||||||||||||||||||||||||||||||||||||||||||||||||||||||||||||||||||||||||||||||||||||||||||||||||||||||||||||||||||||||||||||||||||||||||||||||||||||||||||||||||||||||||||||||||||||||||||||||||||||||||||||||||||||||||||||||||||||||||||||||||||||||||||||||||||||||||||||||||||||||||||||||||||||||||||||||||||||||||||||||||||||||||||||||||||||||||||||||||||||||||||||||||||||||||||||||||||||||||||||||||||||||||||||||||||||||||||||||||||||||||||||||||||||||||||||||||||||||||||||||||||||||||||||||||||||||||||||||||||||||||||||||||||||||||||||||||||||||||||||||||||||||||||||||||||||||||||||||||||||||||||||||||||||||||||||||||||||||||||||||||||||||||||||||||||||||||||||||||||||||||||||||||||||||||||||||||||||||||||||||||||||||||||||||||||||||||||||||||||||||||||||||||||||||||||||||||||||||||||||||||||||||||||||||||||||||||||||||||||||||||||||||||||||||||||||||||||||||||||||||||||||||||||||||||||||||||||||||||||||||||||||||||||||||||||||||||||||||||||||||||||||||||||||||||||||||||||||||||||||||||||||||||||||||||||||||||||||||||||||||||||||||||||||||||||||||||||||||||||||||||||||||||||||||||||||||||||||||||||||||||||||||||||||||||||||||||||||||||||||||||||||||||||||||||||||||||||||||||||||||||||||||||||||||||||||||||||||||||||||||||||||||||||||||||||||||||||||||||||||||||||||||||||||||||||||||||||||||||||||||||||||||||||||||||||||||||||||||||||||||||||||||||||||||||||||||||||||||||||||||||||||||||||||||||||||||||||||||||||||||||||||||||||||||||||||||||||||||||||||||||||||||||||||||||||||||||||||||||||||||||||||||||||||||||||||||||||||||||||||||||||||||||||||||||||||||||||||||||||||||||||||||||||||||||||||||||||||||||||||||||||||||||||||||||||||||||||||||||||||||||||||||||||||||||||||||||||||||||||||||||||||||||||||||||||||||||||||||||||||||||||||||||||||||||||||||||||||||||||||||||||||||||||||||||||||||||||||||||||||||||||||||||||||||||||||||||||||||||.||||||||||||||||||||.||||||||||||||||||||||||||||||||||||||||||||||||||||||||||||||||||||||||||||||||||||||||||||||||||||||||||||||||.||||||||||||||||||||||||||||||||||||||||||||||||||||||||||||||||||||||||||||||||||||||||||||||||||||||||||||||||||||||||||||||||||||||||||||||||||||||||||||||||||||||||||||||||||||||||||||||||||||||||||||||||||||||||||||||||||||||||||||||||||||||||||||||||||||||||||||||||||||||||||||||||||||||||||||||||||||||||||||||||||||||||||||||||||||||||||.||||||||||||||||||||||||||||||||||||||||||||||||||||||||||||||||||||||||||||||||||||||||||||||||||||||||||||||||||||||||||||||||||||||||||||||||||||||||||||||||||||||||||||||||||||||||||||||||||||||||||||||||||||||||||||||||||||||||||||||||||||||||||||||||||||||||||||||||.|||||||||||||||||||||||||||||||||||||||||||||||||||||||||||||||||||||||||||||||||||||||||||||||||||||||||||||||||||||||||||||||||||||||||||||||||||||||||||||||||||||||||||||||||||||||||||||||||||||||||||||||||||||||||||||.|||||||||||||||||||||||||||||||||||||||||||||||||||||||||||||||||||||||||||||||||||||.|||||||||||||||||||||||||||||||||||||||||||||||||||||||||||||||||||||||||||||||||||||||||||||||||||||||||||||||||||||||||||||||||||||||||||||||||||||||||||||||||||||||||||||||||||||||||||||||||||||||||||||||||||||||||||||||||||||||||||||||||||||||||||||||||||||||||||||||||.||.||||||||||||||||||||||||||.||||---|-----------------|----||--|---|-|||----|--|-----||-----|||----|---|-|---|--|--|--|-|--|--|.|-|---|-|-||-----------|--|-|--|||--||.|--|--|||||--|--||-----|-----|-|--|----||-|--|--|---|||---------|---|-|||-------|---|-|----|-||-------|----|||-||---------------------|--|---------||-|--|-------|---|------|-||-------||--------|------------|-----|---||----|----|---|||--||----|---|||.-||-|---|--|-----||--|---|---|---|-------|---|----|---||||-|----|-|-|---||-|----|-|--|---|||.--|-----||-|--|---|-|--|-|.-|--|----|||--|--||---|--|---|--||--||--|.|--------||-----|---||--|---|---||---|--|-|----|--'"
     },
     "execution_count": 146,
     "metadata": {},
     "output_type": "execute_result"
    }
   ],
   "source": [
    "# I = int(3e6)\n",
    "# L = int(10e3)\n",
    "# query = seq1[I:I+L]\n",
    "# target = seq2\n",
    "result = edlib.align(query, target, task='path')\n",
    "nice = edlib.getNiceAlignment(result, query, target)\n",
    "print('locations = ', result['locations'])\n",
    "print('match score = ',nice['matched_aligned'].count('|')/len(query))\n",
    "nice['matched_aligned']"
   ],
   "metadata": {
    "collapsed": false,
    "pycharm": {
     "name": "#%%\n"
    }
   }
  },
  {
   "cell_type": "code",
   "execution_count": 73,
   "outputs": [
    {
     "data": {
      "text/plain": "([5520, 4995, 4426, 5059], [5536, 4986, 4417, 5061])"
     },
     "execution_count": 73,
     "metadata": {},
     "output_type": "execute_result"
    }
   ],
   "source": [
    "[query.count(c) for c in 'ACGT'],[target.count(c) for c in 'ACGT']"
   ],
   "metadata": {
    "collapsed": false,
    "pycharm": {
     "name": "#%%\n"
    }
   }
  },
  {
   "cell_type": "code",
   "execution_count": 24,
   "outputs": [],
   "source": [
    "%matplotlib inline\n",
    "import matplotlib.pyplot as plt\n",
    "\n",
    "N = len(all_seqs)\n",
    "\n",
    "for i in range(N):\n",
    "    for j in range(i,N):\n",
    "        sk1 = all_seqs[i]['sketch']['array']\n",
    "        sk2 = all_seqs[j]['sketch']['array']\n",
    "        sk1 = sk1.transpose() / np.sqrt(np.sum(sk1**2,axis=1))\n",
    "        sk2 = sk2.transpose() / np.sqrt(np.sum(sk2**2,axis=1))\n",
    "        prod = np.matmul(sk1.transpose(),sk2)\n",
    "        angle = np.arccos(prod) / np.pi\n",
    "\n",
    "        plt.matshow(angle)\n",
    "        plt.colorbar()\n",
    "        plt.title(f'seq {i} vs. seq {j}')\n",
    "        plt.show()"
   ],
   "metadata": {
    "collapsed": false,
    "pycharm": {
     "name": "#%%\n"
    }
   }
  },
  {
   "cell_type": "code",
   "execution_count": null,
   "outputs": [],
   "source": [],
   "metadata": {
    "collapsed": false,
    "pycharm": {
     "name": "#%%\n"
    }
   }
  }
 ],
 "metadata": {
  "kernelspec": {
   "display_name": "Python 3",
   "language": "python",
   "name": "python3"
  },
  "language_info": {
   "codemirror_mode": {
    "name": "ipython",
    "version": 2
   },
   "file_extension": ".py",
   "mimetype": "text/x-python",
   "name": "python",
   "nbconvert_exporter": "python",
   "pygments_lexer": "ipython2",
   "version": "2.7.6"
  }
 },
 "nbformat": 4,
 "nbformat_minor": 0
}