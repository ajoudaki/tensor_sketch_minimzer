{
 "cells": [
  {
   "cell_type": "code",
   "execution_count": 1,
   "metadata": {
    "collapsed": true
   },
   "outputs": [],
   "source": [
    "import tensorsketch as ts\n",
    "import tqdm\n",
    "import numpy as np\n",
    "from Bio import SeqIO\n",
    "import glob\n",
    "import matplotlib.pyplot as plt\n",
    "import pandas as pd\n",
    "\n",
    "import edlib"
   ]
  },
  {
   "cell_type": "code",
   "execution_count": 116,
   "outputs": [],
   "source": [
    "kmer_size = 8               #@param {type:\"slider\",min:1,max:32,step:1}\n",
    "tuple_size = 5              #@param {type:\"slider\",min:1,max:10,step:1}\n",
    "sketch_dim = 20             #@param {type:\"slider\",min:10,max:300,step:10}\n",
    "run_cuda_models = False     #@param {type:\"boolean\"}\n",
    "alphabet_size = 4\n",
    "seq_len = 5000000\n",
    "\n",
    "window = 10000\n",
    "stride = 5000\n",
    "normalize = True\n",
    "sample = ord('m')\n",
    "\n",
    "common = dict(A=alphabet_size,D=sketch_dim)\n",
    "tss = ts.TSS(t=tuple_size, S=stride, W=window, **common)\n",
    "\n",
    "tsm = ts.TSM(t=tuple_size, S=stride, W=window, normalize=normalize,sample=sample,**common)"
   ],
   "metadata": {
    "collapsed": false,
    "pycharm": {
     "name": "#%%\n"
    }
   }
  },
  {
   "cell_type": "code",
   "execution_count": 3,
   "outputs": [
    {
     "name": "stdout",
     "output_type": "stream",
     "text": [
      "['/Users/amirjoudaki/Downloads/S_Baltica_new/S_Baltica_OS223.new.new.all.fna', '/Users/amirjoudaki/Downloads/S_Baltica_new/S_Baltica_OS675.new.new.all.fna', '/Users/amirjoudaki/Downloads/S_Baltica_new/S_Baltica_OS117.new.new.all.fna', '/Users/amirjoudaki/Downloads/S_Baltica_new/S_Baltica_OS195.new.new.all.fna', '/Users/amirjoudaki/Downloads/S_Baltica_new/S_Baltica_OS185.new.new.all.fna', '/Users/amirjoudaki/Downloads/S_Baltica_new/S_Baltica_OS625.new.new.all.fna', '/Users/amirjoudaki/Downloads/S_Baltica_new/S_Baltica_BA175.new.new.all.fna', '/Users/amirjoudaki/Downloads/S_Baltica_new/S_Baltica_OS155.new.new.all.fna']\n"
     ]
    },
    {
     "data": {
      "text/plain": "[{'file': '/Users/amirjoudaki/Downloads/S_Baltica_new/S_Baltica_OS223.new.new.all.fna',\n  'id': 'CP001252.1',\n  'name': 'CP001252.1',\n  'description': 'CP001252.1 Shewanella baltica OS223 chromosome, complete genome 0',\n  'seq': Seq('TTTTTTAAGGATAGCGATCCTTGAGATCTCGCTATAGAATACACCTCTTTTTTG...GCG'),\n  'array': array([3, 3, 3, ..., 2, 1, 2], dtype=int8),\n  'rarray': array([3, 3, 3, ..., 2, 1, 2], dtype=int8)},\n {'file': '/Users/amirjoudaki/Downloads/S_Baltica_new/S_Baltica_OS675.new.new.all.fna',\n  'id': 'CP002383.1',\n  'name': 'CP002383.1',\n  'description': 'CP002383.1 Shewanella baltica OS678, complete genome 0',\n  'seq': Seq('TTTAAGGATAGCGATCCTTGAGATCTCGCTATAGAATACACCTCTTTTTTGATG...TAA'),\n  'array': array([3, 3, 3, ..., 3, 0, 0], dtype=int8),\n  'rarray': array([3, 3, 3, ..., 3, 0, 0], dtype=int8)},\n {'file': '/Users/amirjoudaki/Downloads/S_Baltica_new/S_Baltica_OS117.new.new.all.fna',\n  'id': 'C_017579.1',\n  'name': 'C_017579.1',\n  'description': 'C_017579.1 Shewanella baltica OS117, complete sequence 0',\n  'seq': Seq('TTAAGCAGATAAACGAGCGCGACCTTTCGCACGACGACGTGCAAGCACCTTACG...ACT'),\n  'array': array([3, 3, 0, ..., 0, 1, 3], dtype=int8),\n  'rarray': array([3, 3, 0, ..., 0, 1, 3], dtype=int8)},\n {'file': '/Users/amirjoudaki/Downloads/S_Baltica_new/S_Baltica_OS195.new.new.all.fna',\n  'id': 'CP000891.1',\n  'name': 'CP000891.1',\n  'description': 'CP000891.1 Shewanella baltica OS195 chromosome, complete genome 0',\n  'seq': Seq('AAAGAGGCCGAATTGTAATCACAATACTTAGTCACGTCAACAACGAAAGTAAGT...CAA'),\n  'array': array([0, 0, 0, ..., 1, 0, 0], dtype=int8),\n  'rarray': array([0, 0, 0, ..., 1, 0, 0], dtype=int8)},\n {'file': '/Users/amirjoudaki/Downloads/S_Baltica_new/S_Baltica_OS185.new.new.all.fna',\n  'id': 'C_009665.1',\n  'name': 'C_009665.1',\n  'description': 'C_009665.1 Shewanella baltica OS185, complete sequence 0',\n  'seq': Seq('AAAGAGGCCGAATTGTAATCACAATACTTAGTCACGTCAACAACGAAAGTAAGT...CTT'),\n  'array': array([0, 0, 0, ..., 1, 3, 3], dtype=int8),\n  'rarray': array([0, 0, 0, ..., 1, 3, 3], dtype=int8)},\n {'file': '/Users/amirjoudaki/Downloads/S_Baltica_new/S_Baltica_OS625.new.new.all.fna',\n  'id': 'Z_AGEX01000053.1',\n  'name': 'Z_AGEX01000053.1',\n  'description': 'Z_AGEX01000053.1 Shewanella baltica OS625 ctg111, whole genome shotgun sequence 0',\n  'seq': Seq('AATATGATTGCTATTGCGAGACTCATCGCTCATCAATTGAAAGACAATAAACCA...GTG'),\n  'array': array([0, 0, 3, ..., 2, 3, 2], dtype=int8),\n  'rarray': array([0, 0, 3, ..., 2, 3, 2], dtype=int8)},\n {'file': '/Users/amirjoudaki/Downloads/S_Baltica_new/S_Baltica_BA175.new.new.all.fna',\n  'id': 'C_017571.1',\n  'name': 'C_017571.1',\n  'description': 'C_017571.1 Shewanella baltica BA175, complete sequence 0',\n  'seq': Seq('TTTTTTAAGGATAGCGATCCTTGAGATCTCGCTATAGAATACACCTCTTTTTTG...GCA'),\n  'array': array([3, 3, 3, ..., 2, 1, 0], dtype=int8),\n  'rarray': array([3, 3, 3, ..., 2, 1, 0], dtype=int8)},\n {'file': '/Users/amirjoudaki/Downloads/S_Baltica_new/S_Baltica_OS155.new.new.all.fna',\n  'id': 'CP000563.1',\n  'name': 'CP000563.1',\n  'description': 'CP000563.1 Shewanella baltica OS155 chromosome, complete genome 0',\n  'seq': Seq('GAATACACCTCTTTTTTGATGATCTTTTGGGGATAACTAAGTGGCTGTTTCACT...GGG'),\n  'array': array([2, 0, 0, ..., 2, 2, 2], dtype=int8),\n  'rarray': array([2, 0, 0, ..., 2, 2, 2], dtype=int8)}]"
     },
     "execution_count": 3,
     "metadata": {},
     "output_type": "execute_result"
    }
   ],
   "source": [
    "\n",
    "# Map from sequence characters to internal integer representation.\n",
    "_char_map: dict[str, int] = {'A': 0, 'C': 1, 'G': 2, 'T': 3}\n",
    "_char_comp: dict[str, str] = {'A': 'T', 'T': 'A', 'G': 'C', 'C': 'G'}\n",
    "\n",
    "def reverse_complement(s) -> np.ndarray:\n",
    "    char_list = np.full(len(s), -1, dtype=np.int8)\n",
    "    for i in range(len(s)):\n",
    "        char_list[i] = _char_map[_char_comp[s[-i-1]]]\n",
    "    return char_list\n",
    "\n",
    "# Given the char_map above, returns an array of length 256 mapping bytes to\n",
    "# internal integers. -1 signals unknown bytes.\n",
    "def seq2array(s) -> np.ndarray:\n",
    "    char_list = np.full(len(s), -1, dtype=np.int8)\n",
    "    for i,k in enumerate(s):\n",
    "        char_list[i] = _char_map[k]\n",
    "    return char_list\n",
    "\n",
    "data = \"/Users/amirjoudaki/Downloads/S_Baltica_new\"\n",
    "files = glob.glob(data + '/*')\n",
    "print(files)\n",
    "\n",
    "all_seqs = []\n",
    "for file in files:\n",
    "    records = SeqIO.to_dict(SeqIO.parse(file, \"fasta\"))\n",
    "    for name,record in records.items():\n",
    "        seq = dict(file = file, id=record.id, name=record.name, description=record.description)\n",
    "        seq['seq'] = record.seq\n",
    "        seq['array'] = seq2array(record.seq)\n",
    "        seq['rarray'] = seq2array(record.seq)\n",
    "        all_seqs.append(seq)\n",
    "\n",
    "all_seqs"
   ],
   "metadata": {
    "collapsed": false,
    "pycharm": {
     "name": "#%%\n"
    }
   }
  },
  {
   "cell_type": "code",
   "execution_count": null,
   "outputs": [
    {
     "name": "stderr",
     "output_type": "stream",
     "text": [
      " 38%|███▊      | 3/8 [00:54<01:28, 17.68s/it]"
     ]
    }
   ],
   "source": [
    "%%time\n",
    "for seq in tqdm.tqdm(all_seqs,total=len(all_seqs)):\n",
    "    # seq['sketch'] = dict(name='tss',\n",
    "    #                      array=tss.sketch(seq['array'],flatten=False),\n",
    "    #                      rarray=tss.sketch(seq['rarray'],flatten=False))\n",
    "    sketch, inds = tsm.sketch(seq['array'])\n",
    "    # rsketch, rinds = tsm.sketch(seq['rarray'])\n",
    "    seq['sketch'] = dict(name='tsm',\n",
    "                         array=sketch,\n",
    "                         inds=inds,\n",
    "                         # rarray=rsketch,\n",
    "                         # rinds=rinds\n",
    "                         )"
   ],
   "metadata": {
    "collapsed": false,
    "pycharm": {
     "name": "#%%\n",
     "is_executing": true
    }
   }
  },
  {
   "cell_type": "code",
   "execution_count": 58,
   "outputs": [],
   "source": [
    "s1, s2 = 0, 2\n",
    "sk1, sk2 = all_seqs[s1]['sketch']['array'], all_seqs[s2]['sketch']['array']\n",
    "sk1 = sk1.transpose() / np.sqrt(np.nansum(sk1**2,axis=1))\n",
    "sk2 = sk2.transpose() / np.sqrt(np.nansum(sk2**2,axis=1))\n",
    "prod = np.matmul(sk1.transpose(),sk2)\n",
    "dists = np.array([(i,j,1-prod[i,j]) for i in range(prod.shape[0]) for j in range(prod.shape[1])])\n",
    "idx = np.argsort(dists[:,2])\n",
    "dists = dists[idx,:]"
   ],
   "metadata": {
    "collapsed": false,
    "pycharm": {
     "name": "#%%\n"
    }
   }
  },
  {
   "cell_type": "code",
   "execution_count": 111,
   "outputs": [
    {
     "name": "stderr",
     "output_type": "stream",
     "text": [
      "100%|██████████| 200/200 [00:28<00:00,  6.97it/s]\n"
     ]
    },
    {
     "data": {
      "text/plain": "    s1 s2       i1       i2       j1       j2         d    ed   ed_norm\n0    0  2  4827912  4837912  4992801  5002801  0.000004   140  0.014003\n1    0  2  4805899  4815899  4970786  4980786  0.000004    24    0.0024\n2    0  2  4804398  4814398  4969285  4979285  0.000009    20     0.002\n3    0  2   246282   256282   354920   364920  0.000026   838  0.084955\n4    0  2    15719    25719    16198    26198  0.000035   237    0.0237\n..  .. ..      ...      ...      ...      ...       ...   ...       ...\n194  0  2   360077   370077  1721688  1731688  0.000557  4953  0.514277\n195  0  2  3496441  3506441  3149979  3159979  0.000558  4526  0.518739\n196  0  2    36266    46266    36528    46528   0.00056   243  0.024738\n197  0  2  4855030  4865030  3106596  3116596  0.000561  4451  0.511962\n198  0  2  2713740  2723740  4129843  4139843  0.000561  4622  0.514757\n\n[199 rows x 9 columns]",
      "text/html": "<div>\n<style scoped>\n    .dataframe tbody tr th:only-of-type {\n        vertical-align: middle;\n    }\n\n    .dataframe tbody tr th {\n        vertical-align: top;\n    }\n\n    .dataframe thead th {\n        text-align: right;\n    }\n</style>\n<table border=\"1\" class=\"dataframe\">\n  <thead>\n    <tr style=\"text-align: right;\">\n      <th></th>\n      <th>s1</th>\n      <th>s2</th>\n      <th>i1</th>\n      <th>i2</th>\n      <th>j1</th>\n      <th>j2</th>\n      <th>d</th>\n      <th>ed</th>\n      <th>ed_norm</th>\n    </tr>\n  </thead>\n  <tbody>\n    <tr>\n      <th>0</th>\n      <td>0</td>\n      <td>2</td>\n      <td>4827912</td>\n      <td>4837912</td>\n      <td>4992801</td>\n      <td>5002801</td>\n      <td>0.000004</td>\n      <td>140</td>\n      <td>0.014003</td>\n    </tr>\n    <tr>\n      <th>1</th>\n      <td>0</td>\n      <td>2</td>\n      <td>4805899</td>\n      <td>4815899</td>\n      <td>4970786</td>\n      <td>4980786</td>\n      <td>0.000004</td>\n      <td>24</td>\n      <td>0.0024</td>\n    </tr>\n    <tr>\n      <th>2</th>\n      <td>0</td>\n      <td>2</td>\n      <td>4804398</td>\n      <td>4814398</td>\n      <td>4969285</td>\n      <td>4979285</td>\n      <td>0.000009</td>\n      <td>20</td>\n      <td>0.002</td>\n    </tr>\n    <tr>\n      <th>3</th>\n      <td>0</td>\n      <td>2</td>\n      <td>246282</td>\n      <td>256282</td>\n      <td>354920</td>\n      <td>364920</td>\n      <td>0.000026</td>\n      <td>838</td>\n      <td>0.084955</td>\n    </tr>\n    <tr>\n      <th>4</th>\n      <td>0</td>\n      <td>2</td>\n      <td>15719</td>\n      <td>25719</td>\n      <td>16198</td>\n      <td>26198</td>\n      <td>0.000035</td>\n      <td>237</td>\n      <td>0.0237</td>\n    </tr>\n    <tr>\n      <th>...</th>\n      <td>...</td>\n      <td>...</td>\n      <td>...</td>\n      <td>...</td>\n      <td>...</td>\n      <td>...</td>\n      <td>...</td>\n      <td>...</td>\n      <td>...</td>\n    </tr>\n    <tr>\n      <th>194</th>\n      <td>0</td>\n      <td>2</td>\n      <td>360077</td>\n      <td>370077</td>\n      <td>1721688</td>\n      <td>1731688</td>\n      <td>0.000557</td>\n      <td>4953</td>\n      <td>0.514277</td>\n    </tr>\n    <tr>\n      <th>195</th>\n      <td>0</td>\n      <td>2</td>\n      <td>3496441</td>\n      <td>3506441</td>\n      <td>3149979</td>\n      <td>3159979</td>\n      <td>0.000558</td>\n      <td>4526</td>\n      <td>0.518739</td>\n    </tr>\n    <tr>\n      <th>196</th>\n      <td>0</td>\n      <td>2</td>\n      <td>36266</td>\n      <td>46266</td>\n      <td>36528</td>\n      <td>46528</td>\n      <td>0.00056</td>\n      <td>243</td>\n      <td>0.024738</td>\n    </tr>\n    <tr>\n      <th>197</th>\n      <td>0</td>\n      <td>2</td>\n      <td>4855030</td>\n      <td>4865030</td>\n      <td>3106596</td>\n      <td>3116596</td>\n      <td>0.000561</td>\n      <td>4451</td>\n      <td>0.511962</td>\n    </tr>\n    <tr>\n      <th>198</th>\n      <td>0</td>\n      <td>2</td>\n      <td>2713740</td>\n      <td>2723740</td>\n      <td>4129843</td>\n      <td>4139843</td>\n      <td>0.000561</td>\n      <td>4622</td>\n      <td>0.514757</td>\n    </tr>\n  </tbody>\n</table>\n<p>199 rows × 9 columns</p>\n</div>"
     },
     "execution_count": 111,
     "metadata": {},
     "output_type": "execute_result"
    }
   ],
   "source": [
    "num_samples = 200\n",
    "uniform_dists = np.random.random(num_samples)**5 / 2\n",
    "uniform_indices = np.searchsorted(dists[:,2],uniform_dists)\n",
    "uniform_indices = list(range(num_samples))\n",
    "df = pd.DataFrame(columns=['s1','s2','i1','i2','j1','j2','d','ed','ed_norm'])\n",
    "for index in tqdm.tqdm(uniform_indices):\n",
    "    i, j, d = int(dists[index,0]),int(dists[index,1]), dists[index,2]\n",
    "    idx1,idx2 = all_seqs[s1]['sketch']['inds'][i], all_seqs[s2]['sketch']['inds'][j]\n",
    "    seq1, seq2 = all_seqs[s1]['seq'][idx1-window:idx1],all_seqs[s2]['seq'][idx2-window:idx2]\n",
    "    query, target = seq1,seq2\n",
    "    result = edlib.align(query,target,task='path')\n",
    "    if not result['cigar']:\n",
    "        continue\n",
    "    nice = edlib.getNiceAlignment(result, query, target)\n",
    "    first = nice['matched_aligned'].find('|'*10)\n",
    "    query_aligned = nice['query_aligned'][:first]\n",
    "    target_aligned = nice['target_aligned'][:first]\n",
    "    d1, d2 = query_aligned.count('-'), target_aligned.count('-')\n",
    "    L = window - max(d1,d2)\n",
    "    result2 = edlib.align(target[d1:d1+L],query[d2:d2+L])\n",
    "    ed, ed_norm = result2['editDistance'],result2['editDistance']/L\n",
    "\n",
    "    # print(\"\\n\".join([str(v) for k,v in nice.items()]))\n",
    "    df.loc[len(df),:] = (s1,s2,idx1-window,idx1,idx2-window,idx2,d,ed, ed_norm)\n",
    "df"
   ],
   "metadata": {
    "collapsed": false,
    "pycharm": {
     "name": "#%%\n"
    }
   }
  },
  {
   "cell_type": "code",
   "execution_count": 110,
   "outputs": [
    {
     "data": {
      "text/plain": "<matplotlib.collections.PathCollection at 0x7fe9ae5dac70>"
     },
     "execution_count": 110,
     "metadata": {},
     "output_type": "execute_result"
    },
    {
     "data": {
      "text/plain": "<Figure size 432x288 with 1 Axes>",
      "image/png": "[encoded data removed]"
     },
     "metadata": {
      "needs_background": "light"
     },
     "output_type": "display_data"
    }
   ],
   "source": [
    "plt.scatter(df.d[df.d<.02], df.ed_norm[df.d<.02])"
   ],
   "metadata": {
    "collapsed": false,
    "pycharm": {
     "name": "#%%\n"
    }
   }
  },
  {
   "cell_type": "code",
   "execution_count": 115,
   "outputs": [
    {
     "data": {
      "text/plain": "<matplotlib.colorbar.Colorbar at 0x7fe9b0601be0>"
     },
     "execution_count": 115,
     "metadata": {},
     "output_type": "execute_result"
    },
    {
     "data": {
      "text/plain": "<Figure size 432x288 with 2 Axes>",
      "image/png": "[encoded data removed]"
     },
     "metadata": {
      "needs_background": "light"
     },
     "output_type": "display_data"
    }
   ],
   "source": [
    "plt.scatter(df.i1, df.j1, c=df.ed_norm)\n",
    "plt.colorbar()"
   ],
   "metadata": {
    "collapsed": false,
    "pycharm": {
     "name": "#%%\n"
    }
   }
  },
  {
   "cell_type": "code",
   "execution_count": 89,
   "outputs": [
    {
     "name": "stdout",
     "output_type": "stream",
     "text": [
      "917, 942, 0.00037, 0.077\n"
     ]
    }
   ],
   "source": [
    "index = 100\n",
    "i, j, d = int(dists[index,0]),int(dists[index,1]), dists[index,2]\n",
    "idx1,idx2 = all_seqs[s1]['sketch']['inds'][i], all_seqs[s2]['sketch']['inds'][j]\n",
    "seq1, seq2 = all_seqs[s1]['seq'][idx1-window:idx1],all_seqs[s2]['seq'][idx2-window:idx2]\n",
    "query, target = seq1,seq2\n",
    "result = edlib.align(query,target,task='path')\n",
    "nice = edlib.getNiceAlignment(result, query, target)\n",
    "first = nice['matched_aligned'].find('|'*10)\n",
    "query_aligned = nice['query_aligned'][:first]\n",
    "target_aligned = nice['target_aligned'][:first]\n",
    "d1, d2 = query_aligned.count('-'), target_aligned.count('-')\n",
    "L = window - max(d1,d2)\n",
    "result2 = edlib.align(target[d1:d1+L],query[d2:d2+L])\n",
    "ed, ed_norm = result2['editDistance'],result2['editDistance']/L\n",
    "print(f'{i}, {j}, {d:.5f}, {ed_norm:.3f}')\n"
   ],
   "metadata": {
    "collapsed": false,
    "pycharm": {
     "name": "#%%\n"
    }
   }
  },
  {
   "cell_type": "code",
   "execution_count": null,
   "outputs": [],
   "source": [
    "%matplotlib inline\n",
    "import matplotlib.pyplot as plt\n",
    "\n",
    "N = len(all_seqs)\n",
    "\n",
    "for i in range(N):\n",
    "    for j in range(i,N):\n",
    "        sk1 = all_seqs[i]['sketch']['array']\n",
    "        sk2 = all_seqs[j]['sketch']['array']\n",
    "        sk1 = sk1.transpose() / np.sqrt(np.sum(sk1**2,axis=1))\n",
    "        sk2 = sk2.transpose() / np.sqrt(np.sum(sk2**2,axis=1))\n",
    "        prod = np.matmul(sk1.transpose(),sk2)\n",
    "        angle = np.arccos(prod) / np.pi\n",
    "\n",
    "        plt.matshow(angle)\n",
    "        plt.colorbar()\n",
    "        plt.title(f'seq {i} vs. seq {j}')\n",
    "        plt.show()"
   ],
   "metadata": {
    "collapsed": false,
    "pycharm": {
     "name": "#%%\n"
    }
   }
  },
  {
   "cell_type": "code",
   "execution_count": null,
   "outputs": [],
   "source": [
    "dists.shape"
   ],
   "metadata": {
    "collapsed": false,
    "pycharm": {
     "name": "#%%\n"
    }
   }
  },
  {
   "cell_type": "code",
   "execution_count": null,
   "outputs": [],
   "source": [
    "x = np.arange(-1,1,.01)\n",
    "plt.plot(x,np.arccos(x))"
   ],
   "metadata": {
    "collapsed": false,
    "pycharm": {
     "name": "#%%\n"
    }
   }
  },
  {
   "cell_type": "code",
   "execution_count": null,
   "outputs": [],
   "source": [],
   "metadata": {
    "collapsed": false,
    "pycharm": {
     "name": "#%%\n"
    }
   }
  },
  {
   "cell_type": "code",
   "execution_count": null,
   "outputs": [],
   "source": [],
   "metadata": {
    "collapsed": false,
    "pycharm": {
     "name": "#%%\n"
    }
   }
  },
  {
   "cell_type": "code",
   "execution_count": null,
   "outputs": [],
   "source": [],
   "metadata": {
    "collapsed": false,
    "pycharm": {
     "name": "#%%\n"
    }
   }
  }
 ],
 "metadata": {
  "kernelspec": {
   "display_name": "Python 3",
   "language": "python",
   "name": "python3"
  },
  "language_info": {
   "codemirror_mode": {
    "name": "ipython",
    "version": 2
   },
   "file_extension": ".py",
   "mimetype": "text/x-python",
   "name": "python",
   "nbconvert_exporter": "python",
   "pygments_lexer": "ipython2",
   "version": "2.7.6"
  }
 },
 "nbformat": 4,
 "nbformat_minor": 0
}