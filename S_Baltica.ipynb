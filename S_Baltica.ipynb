{
 "cells": [
  {
   "cell_type": "code",
   "execution_count": 247,
   "metadata": {
    "collapsed": true
   },
   "outputs": [],
   "source": [
    "import tensorsketch as ts\n",
    "import tqdm\n",
    "import numpy as np\n",
    "from Bio import SeqIO\n",
    "import glob\n",
    "import matplotlib.pyplot as plt\n",
    "from numba import njit, prange, cuda, objmode\n",
    "import pandas as pd\n",
    "\n",
    "import edlib"
   ]
  },
  {
   "cell_type": "code",
   "execution_count": 92,
   "outputs": [],
   "source": [
    "kmer_size = 8               #@param {type:\"slider\",min:1,max:32,step:1}\n",
    "tuple_size = 3              #@param {type:\"slider\",min:1,max:10,step:1}\n",
    "sketch_dim = 20             #@param {type:\"slider\",min:10,max:300,step:10}\n",
    "run_cuda_models = False     #@param {type:\"boolean\"}\n",
    "alphabet_size = 4\n",
    "\n",
    "window = 10000\n",
    "stride = 5000\n",
    "normalize = True\n",
    "sample = ord('m')\n",
    "\n",
    "common = dict(A=alphabet_size,D=sketch_dim)\n",
    "tss = ts.TSS(t=tuple_size, S=stride, W=window, **common)\n",
    "\n",
    "tsm = ts.TSM(t=tuple_size, S=stride, W=window, normalize=normalize,sample=sample,**common)"
   ],
   "metadata": {
    "collapsed": false,
    "pycharm": {
     "name": "#%%\n"
    }
   }
  },
  {
   "cell_type": "code",
   "execution_count": 106,
   "outputs": [
    {
     "name": "stdout",
     "output_type": "stream",
     "text": [
      "['/Users/amirjoudaki/Downloads/S_Baltica_new/S_Baltica_OS223.new.new.all.fna', '/Users/amirjoudaki/Downloads/S_Baltica_new/S_Baltica_OS675.new.new.all.fna', '/Users/amirjoudaki/Downloads/S_Baltica_new/S_Baltica_OS117.new.new.all.fna', '/Users/amirjoudaki/Downloads/S_Baltica_new/S_Baltica_OS195.new.new.all.fna', '/Users/amirjoudaki/Downloads/S_Baltica_new/S_Baltica_OS185.new.new.all.fna', '/Users/amirjoudaki/Downloads/S_Baltica_new/S_Baltica_OS625.new.new.all.fna', '/Users/amirjoudaki/Downloads/S_Baltica_new/S_Baltica_BA175.new.new.all.fna', '/Users/amirjoudaki/Downloads/S_Baltica_new/S_Baltica_OS155.new.new.all.fna']\n"
     ]
    },
    {
     "data": {
      "text/plain": "[{'file': '/Users/amirjoudaki/Downloads/S_Baltica_new/S_Baltica_OS223.new.new.all.fna',\n  'id': 'CP001252.1',\n  'name': 'CP001252.1',\n  'description': 'CP001252.1 Shewanella baltica OS223 chromosome, complete genome 0',\n  'seq': Seq('TTTTTTAAGGATAGCGATCCTTGAGATCTCGCTATAGAATACACCTCTTTTTTG...GCG'),\n  'array': array([3, 3, 3, ..., 2, 1, 2], dtype=int8),\n  'rarray': array([3, 3, 3, ..., 2, 1, 2], dtype=int8)},\n {'file': '/Users/amirjoudaki/Downloads/S_Baltica_new/S_Baltica_OS675.new.new.all.fna',\n  'id': 'CP002383.1',\n  'name': 'CP002383.1',\n  'description': 'CP002383.1 Shewanella baltica OS678, complete genome 0',\n  'seq': Seq('TTTAAGGATAGCGATCCTTGAGATCTCGCTATAGAATACACCTCTTTTTTGATG...TAA'),\n  'array': array([3, 3, 3, ..., 3, 0, 0], dtype=int8),\n  'rarray': array([3, 3, 3, ..., 3, 0, 0], dtype=int8)},\n {'file': '/Users/amirjoudaki/Downloads/S_Baltica_new/S_Baltica_OS117.new.new.all.fna',\n  'id': 'C_017579.1',\n  'name': 'C_017579.1',\n  'description': 'C_017579.1 Shewanella baltica OS117, complete sequence 0',\n  'seq': Seq('TTAAGCAGATAAACGAGCGCGACCTTTCGCACGACGACGTGCAAGCACCTTACG...ACT'),\n  'array': array([3, 3, 0, ..., 0, 1, 3], dtype=int8),\n  'rarray': array([3, 3, 0, ..., 0, 1, 3], dtype=int8)},\n {'file': '/Users/amirjoudaki/Downloads/S_Baltica_new/S_Baltica_OS195.new.new.all.fna',\n  'id': 'CP000891.1',\n  'name': 'CP000891.1',\n  'description': 'CP000891.1 Shewanella baltica OS195 chromosome, complete genome 0',\n  'seq': Seq('AAAGAGGCCGAATTGTAATCACAATACTTAGTCACGTCAACAACGAAAGTAAGT...CAA'),\n  'array': array([0, 0, 0, ..., 1, 0, 0], dtype=int8),\n  'rarray': array([0, 0, 0, ..., 1, 0, 0], dtype=int8)},\n {'file': '/Users/amirjoudaki/Downloads/S_Baltica_new/S_Baltica_OS185.new.new.all.fna',\n  'id': 'C_009665.1',\n  'name': 'C_009665.1',\n  'description': 'C_009665.1 Shewanella baltica OS185, complete sequence 0',\n  'seq': Seq('AAAGAGGCCGAATTGTAATCACAATACTTAGTCACGTCAACAACGAAAGTAAGT...CTT'),\n  'array': array([0, 0, 0, ..., 1, 3, 3], dtype=int8),\n  'rarray': array([0, 0, 0, ..., 1, 3, 3], dtype=int8)},\n {'file': '/Users/amirjoudaki/Downloads/S_Baltica_new/S_Baltica_OS625.new.new.all.fna',\n  'id': 'Z_AGEX01000053.1',\n  'name': 'Z_AGEX01000053.1',\n  'description': 'Z_AGEX01000053.1 Shewanella baltica OS625 ctg111, whole genome shotgun sequence 0',\n  'seq': Seq('AATATGATTGCTATTGCGAGACTCATCGCTCATCAATTGAAAGACAATAAACCA...GTG'),\n  'array': array([0, 0, 3, ..., 2, 3, 2], dtype=int8),\n  'rarray': array([0, 0, 3, ..., 2, 3, 2], dtype=int8)},\n {'file': '/Users/amirjoudaki/Downloads/S_Baltica_new/S_Baltica_BA175.new.new.all.fna',\n  'id': 'C_017571.1',\n  'name': 'C_017571.1',\n  'description': 'C_017571.1 Shewanella baltica BA175, complete sequence 0',\n  'seq': Seq('TTTTTTAAGGATAGCGATCCTTGAGATCTCGCTATAGAATACACCTCTTTTTTG...GCA'),\n  'array': array([3, 3, 3, ..., 2, 1, 0], dtype=int8),\n  'rarray': array([3, 3, 3, ..., 2, 1, 0], dtype=int8)},\n {'file': '/Users/amirjoudaki/Downloads/S_Baltica_new/S_Baltica_OS155.new.new.all.fna',\n  'id': 'CP000563.1',\n  'name': 'CP000563.1',\n  'description': 'CP000563.1 Shewanella baltica OS155 chromosome, complete genome 0',\n  'seq': Seq('GAATACACCTCTTTTTTGATGATCTTTTGGGGATAACTAAGTGGCTGTTTCACT...GGG'),\n  'array': array([2, 0, 0, ..., 2, 2, 2], dtype=int8),\n  'rarray': array([2, 0, 0, ..., 2, 2, 2], dtype=int8)}]"
     },
     "execution_count": 106,
     "metadata": {},
     "output_type": "execute_result"
    }
   ],
   "source": [
    "\n",
    "# Map from sequence characters to internal integer representation.\n",
    "_char_map: dict[str, int] = {'A': 0, 'C': 1, 'G': 2, 'T': 3}\n",
    "_char_comp: dict[str, str] = {'A': 'T', 'T': 'A', 'G': 'C', 'C': 'G'}\n",
    "\n",
    "\n",
    "def reverse_complement(s) -> np.ndarray:\n",
    "    char_list = np.full(len(s), -1, dtype=np.int8)\n",
    "    for i in range(len(s)):\n",
    "        char_list[i] = _char_map[_char_comp[s[-i-1]]]\n",
    "    return char_list\n",
    "\n",
    "# Given the char_map above, returns an array of length 256 mapping bytes to\n",
    "# internal integers. -1 signals unknown bytes.\n",
    "\n",
    "def seq2array(s) -> np.ndarray:\n",
    "    char_list = np.full(len(s), -1, dtype=np.int8)\n",
    "    for i,k in enumerate(s):\n",
    "        char_list[i] = _char_map[k]\n",
    "    return char_list\n",
    "\n",
    "data = \"/Users/amirjoudaki/Downloads/S_Baltica_new\"\n",
    "files = glob.glob(data + '/*')\n",
    "print(files)\n",
    "\n",
    "all_seqs = []\n",
    "for file in files:\n",
    "    records = SeqIO.to_dict(SeqIO.parse(file, \"fasta\"))\n",
    "    for name,record in records.items():\n",
    "        seq = dict(file = file, id=record.id, name=record.name, description=record.description)\n",
    "        seq['seq'] = record.seq\n",
    "        seq['array'] = seq2array(record.seq)\n",
    "        seq['rarray'] = seq2array(record.seq)\n",
    "        all_seqs.append(seq)\n",
    "\n",
    "all_seqs"
   ],
   "metadata": {
    "collapsed": false,
    "pycharm": {
     "name": "#%%\n"
    }
   }
  },
  {
   "cell_type": "code",
   "execution_count": 167,
   "outputs": [
    {
     "name": "stderr",
     "output_type": "stream",
     "text": [
      "  0%|          | 0/8 [00:10<?, ?it/s]\n"
     ]
    },
    {
     "ename": "SystemError",
     "evalue": "CPUDispatcher(<function method at 0x7fd9d3ab2040>) returned a result with an error set",
     "output_type": "error",
     "traceback": [
      "\u001B[0;31m---------------------------------------------------------------------------\u001B[0m",
      "\u001B[0;31mKeyboardInterrupt\u001B[0m                         Traceback (most recent call last)",
      "\u001B[0;32m~/opt/anaconda3/lib/python3.9/site-packages/numba/core/serialize.py\u001B[0m in \u001B[0;36m_numba_unpickle\u001B[0;34m(address, bytedata, hashed)\u001B[0m\n\u001B[1;32m     28\u001B[0m \u001B[0;34m\u001B[0m\u001B[0m\n\u001B[0;32m---> 29\u001B[0;31m \u001B[0;32mdef\u001B[0m \u001B[0m_numba_unpickle\u001B[0m\u001B[0;34m(\u001B[0m\u001B[0maddress\u001B[0m\u001B[0;34m,\u001B[0m \u001B[0mbytedata\u001B[0m\u001B[0;34m,\u001B[0m \u001B[0mhashed\u001B[0m\u001B[0;34m)\u001B[0m\u001B[0;34m:\u001B[0m\u001B[0;34m\u001B[0m\u001B[0;34m\u001B[0m\u001B[0m\n\u001B[0m\u001B[1;32m     30\u001B[0m     \"\"\"Used by `numba_unpickle` from _helperlib.c\n",
      "\u001B[0;31mKeyboardInterrupt\u001B[0m: ",
      "\nThe above exception was the direct cause of the following exception:\n",
      "\u001B[0;31mSystemError\u001B[0m                               Traceback (most recent call last)",
      "\u001B[0;31mSystemError\u001B[0m: _PyEval_EvalFrameDefault returned a result with an error set",
      "\nThe above exception was the direct cause of the following exception:\n",
      "\u001B[0;31mSystemError\u001B[0m                               Traceback (most recent call last)",
      "\u001B[0;32m<timed exec>\u001B[0m in \u001B[0;36m<module>\u001B[0;34m\u001B[0m\n",
      "\u001B[0;32m~/opt/anaconda3/lib/python3.9/site-packages/numba/experimental/jitclass/boxing.py\u001B[0m in \u001B[0;36mwrapper\u001B[0;34m(*args, **kwargs)\u001B[0m\n\u001B[1;32m     57\u001B[0m     \u001B[0;34m@\u001B[0m\u001B[0mwraps\u001B[0m\u001B[0;34m(\u001B[0m\u001B[0mfunc\u001B[0m\u001B[0;34m)\u001B[0m\u001B[0;34m\u001B[0m\u001B[0;34m\u001B[0m\u001B[0m\n\u001B[1;32m     58\u001B[0m     \u001B[0;32mdef\u001B[0m \u001B[0mwrapper\u001B[0m\u001B[0;34m(\u001B[0m\u001B[0;34m*\u001B[0m\u001B[0margs\u001B[0m\u001B[0;34m,\u001B[0m \u001B[0;34m**\u001B[0m\u001B[0mkwargs\u001B[0m\u001B[0;34m)\u001B[0m\u001B[0;34m:\u001B[0m\u001B[0;34m\u001B[0m\u001B[0;34m\u001B[0m\u001B[0m\n\u001B[0;32m---> 59\u001B[0;31m         \u001B[0;32mreturn\u001B[0m \u001B[0mmethod\u001B[0m\u001B[0;34m(\u001B[0m\u001B[0;34m*\u001B[0m\u001B[0margs\u001B[0m\u001B[0;34m,\u001B[0m \u001B[0;34m**\u001B[0m\u001B[0mkwargs\u001B[0m\u001B[0;34m)\u001B[0m\u001B[0;34m\u001B[0m\u001B[0;34m\u001B[0m\u001B[0m\n\u001B[0m\u001B[1;32m     60\u001B[0m \u001B[0;34m\u001B[0m\u001B[0m\n\u001B[1;32m     61\u001B[0m     \u001B[0;32mreturn\u001B[0m \u001B[0mwrapper\u001B[0m\u001B[0;34m\u001B[0m\u001B[0;34m\u001B[0m\u001B[0m\n",
      "\u001B[0;31mSystemError\u001B[0m: CPUDispatcher(<function method at 0x7fd9d3ab2040>) returned a result with an error set"
     ]
    }
   ],
   "source": [
    "%%time\n",
    "for seq in tqdm.tqdm(all_seqs,total=len(all_seqs)):\n",
    "    sketch, inds = tsm.sketch(seq['array'])\n",
    "    # rsketch, rinds = tsm.sketch(seq['rarray'])\n",
    "    seq['sketch'] = dict(name='tsm',\n",
    "                         array=sketch,\n",
    "                         inds=inds,\n",
    "                         # rarray=rsketch,\n",
    "                         # rinds=rinds\n",
    "                         )"
   ],
   "metadata": {
    "collapsed": false,
    "pycharm": {
     "name": "#%%\n"
    }
   }
  },
  {
   "cell_type": "code",
   "execution_count": 233,
   "outputs": [],
   "source": [
    "s1, s2 = 1, 5\n",
    "seq1, seq2 = all_seqs[s1]['seq'],all_seqs[s2]['seq']\n",
    "sk1, sk2 = all_seqs[s1]['sketch']['array'], all_seqs[s2]['sketch']['array']\n",
    "sk1 = sk1.transpose() / np.sqrt(np.nansum(sk1**2,axis=1))\n",
    "sk2 = sk2.transpose() / np.sqrt(np.nansum(sk2**2,axis=1))\n",
    "prod = np.matmul(sk1.transpose(),sk2)\n",
    "dists = np.array([(i,j,1-prod[i,j]) for i in range(prod.shape[0]) for j in range(prod.shape[1])])\n",
    "idx = np.argsort(dists[:,2])\n",
    "dists = dists[idx,:]"
   ],
   "metadata": {
    "collapsed": false,
    "pycharm": {
     "name": "#%%\n"
    }
   }
  },
  {
   "cell_type": "code",
   "execution_count": 234,
   "outputs": [
    {
     "name": "stderr",
     "output_type": "stream",
     "text": [
      "100%|██████████| 200/200 [00:06<00:00, 31.61it/s]\n"
     ]
    },
    {
     "data": {
      "text/plain": "    s1 s2       i1       i2       j1       j2         d   ed ed_norm ed2  \\\n0    1  5  4114436  4124436  4525753  4535753      -0.0    0     0.0   0   \n1    1  5  4571716  4581716  4981941  4991941      -0.0    0     0.0   0   \n2    1  5  2181157  2191157  1554839  1564839      -0.0    0     0.0   0   \n3    1  5   704089   714089   142505   152505      -0.0    0     0.0   0   \n4    1  5  5039126  5049126  4018660  4028660      -0.0    0     0.0   0   \n..  .. ..      ...      ...      ...      ...       ...  ...     ...  ..   \n195  1  5  3675407  3685407  2971795  2981795  0.000003   23  0.0023  23   \n196  1  5  4932476  4942476  3915595  3925595  0.000003   62  0.0062  62   \n197  1  5  4594880  4604880  5004998  5014998  0.000004  214  0.0214   0   \n198  1  5  1527730  1537730  3290000  3300000  0.000004   20   0.002   2   \n199  1  5  2397076  2407076   392861   402861  0.000004    4  0.0004   4   \n\n    ed_norm2  \n0        0.0  \n1        0.0  \n2        0.0  \n3        0.0  \n4        0.0  \n..       ...  \n195   0.0023  \n196   0.0062  \n197      0.0  \n198   0.0002  \n199   0.0004  \n\n[200 rows x 11 columns]",
      "text/html": "<div>\n<style scoped>\n    .dataframe tbody tr th:only-of-type {\n        vertical-align: middle;\n    }\n\n    .dataframe tbody tr th {\n        vertical-align: top;\n    }\n\n    .dataframe thead th {\n        text-align: right;\n    }\n</style>\n<table border=\"1\" class=\"dataframe\">\n  <thead>\n    <tr style=\"text-align: right;\">\n      <th></th>\n      <th>s1</th>\n      <th>s2</th>\n      <th>i1</th>\n      <th>i2</th>\n      <th>j1</th>\n      <th>j2</th>\n      <th>d</th>\n      <th>ed</th>\n      <th>ed_norm</th>\n      <th>ed2</th>\n      <th>ed_norm2</th>\n    </tr>\n  </thead>\n  <tbody>\n    <tr>\n      <th>0</th>\n      <td>1</td>\n      <td>5</td>\n      <td>4114436</td>\n      <td>4124436</td>\n      <td>4525753</td>\n      <td>4535753</td>\n      <td>-0.0</td>\n      <td>0</td>\n      <td>0.0</td>\n      <td>0</td>\n      <td>0.0</td>\n    </tr>\n    <tr>\n      <th>1</th>\n      <td>1</td>\n      <td>5</td>\n      <td>4571716</td>\n      <td>4581716</td>\n      <td>4981941</td>\n      <td>4991941</td>\n      <td>-0.0</td>\n      <td>0</td>\n      <td>0.0</td>\n      <td>0</td>\n      <td>0.0</td>\n    </tr>\n    <tr>\n      <th>2</th>\n      <td>1</td>\n      <td>5</td>\n      <td>2181157</td>\n      <td>2191157</td>\n      <td>1554839</td>\n      <td>1564839</td>\n      <td>-0.0</td>\n      <td>0</td>\n      <td>0.0</td>\n      <td>0</td>\n      <td>0.0</td>\n    </tr>\n    <tr>\n      <th>3</th>\n      <td>1</td>\n      <td>5</td>\n      <td>704089</td>\n      <td>714089</td>\n      <td>142505</td>\n      <td>152505</td>\n      <td>-0.0</td>\n      <td>0</td>\n      <td>0.0</td>\n      <td>0</td>\n      <td>0.0</td>\n    </tr>\n    <tr>\n      <th>4</th>\n      <td>1</td>\n      <td>5</td>\n      <td>5039126</td>\n      <td>5049126</td>\n      <td>4018660</td>\n      <td>4028660</td>\n      <td>-0.0</td>\n      <td>0</td>\n      <td>0.0</td>\n      <td>0</td>\n      <td>0.0</td>\n    </tr>\n    <tr>\n      <th>...</th>\n      <td>...</td>\n      <td>...</td>\n      <td>...</td>\n      <td>...</td>\n      <td>...</td>\n      <td>...</td>\n      <td>...</td>\n      <td>...</td>\n      <td>...</td>\n      <td>...</td>\n      <td>...</td>\n    </tr>\n    <tr>\n      <th>195</th>\n      <td>1</td>\n      <td>5</td>\n      <td>3675407</td>\n      <td>3685407</td>\n      <td>2971795</td>\n      <td>2981795</td>\n      <td>0.000003</td>\n      <td>23</td>\n      <td>0.0023</td>\n      <td>23</td>\n      <td>0.0023</td>\n    </tr>\n    <tr>\n      <th>196</th>\n      <td>1</td>\n      <td>5</td>\n      <td>4932476</td>\n      <td>4942476</td>\n      <td>3915595</td>\n      <td>3925595</td>\n      <td>0.000003</td>\n      <td>62</td>\n      <td>0.0062</td>\n      <td>62</td>\n      <td>0.0062</td>\n    </tr>\n    <tr>\n      <th>197</th>\n      <td>1</td>\n      <td>5</td>\n      <td>4594880</td>\n      <td>4604880</td>\n      <td>5004998</td>\n      <td>5014998</td>\n      <td>0.000004</td>\n      <td>214</td>\n      <td>0.0214</td>\n      <td>0</td>\n      <td>0.0</td>\n    </tr>\n    <tr>\n      <th>198</th>\n      <td>1</td>\n      <td>5</td>\n      <td>1527730</td>\n      <td>1537730</td>\n      <td>3290000</td>\n      <td>3300000</td>\n      <td>0.000004</td>\n      <td>20</td>\n      <td>0.002</td>\n      <td>2</td>\n      <td>0.0002</td>\n    </tr>\n    <tr>\n      <th>199</th>\n      <td>1</td>\n      <td>5</td>\n      <td>2397076</td>\n      <td>2407076</td>\n      <td>392861</td>\n      <td>402861</td>\n      <td>0.000004</td>\n      <td>4</td>\n      <td>0.0004</td>\n      <td>4</td>\n      <td>0.0004</td>\n    </tr>\n  </tbody>\n</table>\n<p>200 rows × 11 columns</p>\n</div>"
     },
     "execution_count": 234,
     "metadata": {},
     "output_type": "execute_result"
    }
   ],
   "source": [
    "num_samples = 200\n",
    "uniform_dists = np.random.random(num_samples)**4 / 2\n",
    "uniform_indices = np.searchsorted(dists[:,2],uniform_dists)\n",
    "uniform_indices = list(range(num_samples))\n",
    "df = pd.DataFrame(columns=['s1','s2','i1','i2','j1','j2','d','ed','ed_norm','ed2','ed_norm2'])\n",
    "for index in tqdm.tqdm(uniform_indices):\n",
    "    i, j, d = int(dists[index,0]),int(dists[index,1]), dists[index,2]\n",
    "    idx1,idx2 = all_seqs[s1]['sketch']['inds'][i], all_seqs[s2]['sketch']['inds'][j]\n",
    "    query, target = seq1[idx1-window:idx1],seq2[idx2-window:idx2]\n",
    "    result = edlib.align(query,target,task='path')\n",
    "    if not result['cigar']:\n",
    "        continue\n",
    "    nice = edlib.getNiceAlignment(result, query, target)\n",
    "    first = nice['matched_aligned'].find('|'*15)\n",
    "    query_aligned = nice['query_aligned'][:first]\n",
    "    target_aligned = nice['target_aligned'][:first]\n",
    "    d1, d2 = query_aligned.count('-'), target_aligned.count('-')\n",
    "    L = window - max(d1,d2)\n",
    "    result2 = edlib.align(target[d1:d1+L],query[d2:d2+L])\n",
    "    ed, ed_norm = result['editDistance'], result['editDistance']/window\n",
    "    ed2, ed_norm2 = result2['e ditDistance'],result2['editDistance']/L\n",
    "\n",
    "    # print(\"\\n\".join([str(v) for k,v in nice.items()]))\n",
    "    df.loc[len(df),:] = (s1,s2,idx1-window,idx1,idx2-window,idx2,d,ed,ed_norm,ed2, ed_norm2)\n",
    "df"
   ],
   "metadata": {
    "collapsed": false,
    "pycharm": {
     "name": "#%%\n"
    }
   }
  },
  {
   "cell_type": "code",
   "execution_count": 191,
   "outputs": [
    {
     "data": {
      "text/plain": "<matplotlib.collections.PathCollection at 0x7fd7ecf9a310>"
     },
     "execution_count": 191,
     "metadata": {},
     "output_type": "execute_result"
    },
    {
     "data": {
      "text/plain": "<Figure size 432x288 with 1 Axes>",
      "image/png": "[encoded data removed]"
     },
     "metadata": {
      "needs_background": "light"
     },
     "output_type": "display_data"
    }
   ],
   "source": [
    "plt.scatter([np.arccos(1-v) for v in df.d.values], df.ed_norm2)"
   ],
   "metadata": {
    "collapsed": false,
    "pycharm": {
     "name": "#%%\n"
    }
   }
  },
  {
   "cell_type": "code",
   "execution_count": 193,
   "outputs": [
    {
     "data": {
      "text/plain": "<matplotlib.colorbar.Colorbar at 0x7fd7ede47910>"
     },
     "execution_count": 193,
     "metadata": {},
     "output_type": "execute_result"
    },
    {
     "data": {
      "text/plain": "<Figure size 432x288 with 2 Axes>",
      "image/png": "[encoded data removed]"
     },
     "metadata": {
      "needs_background": "light"
     },
     "output_type": "display_data"
    }
   ],
   "source": [
    "plt.scatter(df.i1, df.j1, c=df.ed_norm2)\n",
    "plt.colorbar()"
   ],
   "metadata": {
    "collapsed": false,
    "pycharm": {
     "name": "#%%\n"
    }
   }
  },
  {
   "cell_type": "code",
   "execution_count": 235,
   "outputs": [
    {
     "name": "stdout",
     "output_type": "stream",
     "text": [
      "59, 265, 295238, 1325570 0.00275, 0.002, 0.000\n"
     ]
    }
   ],
   "source": [
    "index = 200\n",
    "i, j, d = int(dists[index,0]),int(dists[index,1]), dists[index,2]\n",
    "\n",
    "d = np.linalg.norm(sk1[:,i]- sk2[:,j])\n",
    "idx1,idx2 = all_seqs[s1]['sketch']['inds'][i], all_seqs[s2]['sketch']['inds'][j]\n",
    "S1, S2 = seq1[idx1-window:idx1],seq2[idx2-window:idx2]\n",
    "query, target = S1,S2\n",
    "result = edlib.align(query,target,task='path')\n",
    "nice = edlib.getNiceAlignment(result, query, target)\n",
    "first = nice['matched_aligned'].find('|'*15)\n",
    "query_aligned = nice['query_aligned']\n",
    "target_aligned = nice['target_aligned']\n",
    "d1, d2 = query_aligned[:first].count('-'), target_aligned[:first].count('-')\n",
    "L = window - max(d1,d2)\n",
    "result2 = edlib.align(target[d1:d1+L],query[d2:d2+L])\n",
    "ed, ed_norm = result2['editDistance'],result2['editDistance']/L\n",
    "indels = query_aligned[first:first+L].count(\"-\")/L\n",
    "print(f'{i}, {j}, {idx1}, {idx2} {d:.5f}, {ed_norm:.3f}, {indels:.3f}')\n"
   ],
   "metadata": {
    "collapsed": false,
    "pycharm": {
     "name": "#%%\n"
    }
   }
  },
  {
   "cell_type": "code",
   "execution_count": 246,
   "outputs": [
    {
     "name": "stderr",
     "output_type": "stream",
     "text": [
      "/var/folders/f_/k4t2qy550m59jflz950fy7z40000gn/T/ipykernel_47899/1549250306.py:1: FutureWarning: elementwise comparison failed; returning scalar instead, but in the future will perform elementwise comparison\n",
      "  match = [np.mean(np.array(target[i:])!=np.array(query[:-i])) for i in range(-100,100)]\n"
     ]
    },
    {
     "data": {
      "text/plain": "[<matplotlib.lines.Line2D at 0x7fd7f3abbfa0>]"
     },
     "execution_count": 246,
     "metadata": {},
     "output_type": "execute_result"
    },
    {
     "data": {
      "text/plain": "<Figure size 432x288 with 1 Axes>",
      "image/png": "[encoded data removed]"
     },
     "metadata": {
      "needs_background": "light"
     },
     "output_type": "display_data"
    }
   ],
   "source": [
    "match = [np.mean(np.array(target[i:])!=np.array(query[:-i])) for i in range(-100,100)]\n",
    "plt.plot(match)"
   ],
   "metadata": {
    "collapsed": false,
    "pycharm": {
     "name": "#%%\n"
    }
   }
  },
  {
   "cell_type": "code",
   "execution_count": 200,
   "outputs": [
    {
     "name": "stdout",
     "output_type": "stream",
     "text": [
      "locations =  [(2708481, 2718456), (2708481, 2718457), (2708481, 2718458), (2708481, 2718459)]\n",
      "match score =  0.9382\n"
     ]
    },
    {
     "data": {
      "text/plain": "'||||||||.|||||||||||||||||||||||||||||||||||||||||||||||||||||||||||||||||||||||||||||||||||||||||||||||||||||||||||||||||.|||||||||||||||||||||||||||||.|||||||||||||||||||||||||||||||||||||||||||||||||||||||||||||||||||||||.||||||||||||||||||||||||||||||||||||||||||||||||||||||||||||||||||||||||||||||||||||||||||||||||||||||||||||||||||||||||||||||||||||||||||.||.||.||||||||||||||||||||||||||||||||||||||||||||||||||||||||||||||||||||||||||||||||||||||||||||||||||||||||||||||||||||||||||||||||||||||||||||.||||||||||||||||||||||||||||||||||||||||||||||||||||||||||||||||||||||||||||||||||||||.|||||||||||||||||||||||||||||||||.||||||||||||||||||||||||||||||||||||||||||||||||||||||||||||||||||||||.||||||||||||||||||||||||||||||||||||||||||||||||||||||||||||||||||||||||||||||||||||||.||||||||||||||||||||||||||||||||||||||||||||||||||||||||||||||||||||||||||||||||||||||||||||||||||||||||||||||||||||||||||.||||||||||||||||||||||||||||||||||||||||||||||||||||||||||||||||||||||||||||||||||||||||||||||||||||||||||||||||||||.||.||||||||||||||||||||||||||||||||||||||||||||.|||||||||||||||||||||||||||||||||||.||.||.|||||.||||||||||||||||||||||||||||||||||||||||||||||||||||||||||||||||||||.|||||||||||||||||||||||||||||||||||||||||||||||||||||||||||||||||||||||.|||||||||||||||||||||||||||||.|||||||||||.|||||||||||||||||||||||||||||||||||||||||||||||||||||||||||||||||||||||||||||||||||||||||||||||||||||||||||.|||||.||||||||||||||||||||||||||||||||.|||||.|||||||||||||||||||||||||||||||||||.||.|||||||||||||||||||||||.||||||||||||||||||||.||.|||||.||||||||||||||||||||||||||||||||||||||||||||||||||||||||||||||||||||||||||.|||||||||||||||||||||.||||||||||||||||||||||||||||.||||||||||||||||.|||||||||||||||||||||||||||||||||||||||||||||||||||||||||||||||||||||||||||||||||||||||||||||||||||.|..|||||||||.|||||||||||||||.||||||||||||||||||||||||||||||||||||||||||||||||.||||||||||||||||||||||||.||||||||||||||||||||||||||||.||.|||||||||||||||||||||||||||||||||||||||||||||||||||||||||||||||||||||||||||||||||||||||.||||||||||||.||||||||||||||||||||||||||||||||||||||||||||||||||||||||.|||||||||||..|.||.||.|||||.|||||.|||||.||.||||||||.|||||||||||-|-|.||||||||.|||||.||.||.||.||.||.||-|-|.||.|||||||||||.||||||||.|||||.|||.|-||.-||..|.||.||||||.|.||.|||||||||||.|-|-|||-|-|||.|||||||||-||...-||-||-|..-|||.-||-|-|||.||.|||-|.|--||||-|-||.|..||-|--|||.|.|||||-||-|-||||-||||||.||.||..|-||-||||-||-|..||..|.||-|.|-||.||.||...||||||||||||.||.||.|||.|.|||.||-||.-||||.|.|.---|-||.-|.|.|.-|-|.---||-||.|||--|.--|-||-||.|.||-||-|-||-|||||||||.-||-|..|..||||.|||||.|||-||-||.||||||.||||.|||-|.-||||||.|||||||||||||.||...|.||||||||.|||||..-||||.||.-|----|||-|-|--|.--||-|-||.-||-|-|-||-||||---|--|-|---|||||.|.|||.|.|--|||----||-|-|.|||||.||-|.|-|||||...-||-||||.|-|-|||||||||||||.-||-|||.-|-|||||||||.|.|||||-|.|.|.-||.|.-||.-||.||||||||.||--|||-||--|.|-|--|-|..--|-||||||..||---||||.|--|---|||-|||-|..|.|-||.|.|||.||.|||||||.|||||||||||.|||||||||||..|.||....|-|-|||||-|-|.|||||.|||||.|||..-|.|.|.|-||||..||||||||||.|||||----|--|-||--||.|--|.|---|||-||||.||.|-|-||||.||.|||-||..|.-|.-||-|.|.|||.|||||..||||.|.||.||.||||||||||||.||||||||||||||||.|||||.||.-||.|.-||.|..|||||.|||||.||||||||||||||.||||||.|.||.||.||||||||||||.||||.||.||-||-||||||.||||.|||.||.|||.|.|||||.|||.|.|.|.|.||..-|-||.||.||-|.|||-|.|.||.|-|.-||...||||||.|-|.|..|.-|-||.-|.||-|||---|.|.|||-|-||.||-|..-||||.|||.-||-|||-|.-||.-|-||.|.||||.||.||||||||||||||||||||||||||||||||||||||||||||||||||||||||||||||||||||||||||||||||||||||||||||||||||||||||||||||||.||.||||||||||||||||||||||||||||||||||||||||||||||||||||||||||||||||.|||||||||||||||||||||||||||||.|||||.||.|||||||||||||||||||||||.||||||||||||||||||||||||||.||||||||||||||||||||||||||||||||||||||.||||||||||.||||||||||||||||||||||||.||.|||||.|||||||||||||||||||||||||.||||||||||||||||||.|||||.|||||.||||||||||||||||||||||||||||||||||||||||||||||||||||||||||||||||||||||||||||||||||||||||||||||||||||||||||.||||||||||||||||||||||||||||||||||||||||||||||||||||||||||||||||||||||||||||||||||||||||||||||||||||||||||||||||||||||||||||||||||||||||||||||||||||||||||||||||||||||||||||||||||||||||||||||||||||||||||||||||||||||||||.|||||.|||||||||||||||||||||||||||||||||||||||||||||||||||||||||||||||||||||||||||||||||||.|||||||||||||||||||||||||||||||||||||||||||||||||||||||||||||||||||||||||||||||||||||||||.||||||||||||||||||||||||||||||||||||||||||||||||||||||||||||||||||||||||||||||||||||||.||||||||||||||||||||||||||||||||||||||.|||||||||||||||||.|||||||||||||||||||||||||||||||||||||||||||||||||||||||||||||||||||||||||||||.|||||||||||||||||||||||||||||||||||||||||||||||||||||||||||||||||||||||||||||||||||||||||||||||||||||||||||||||||||||||||||||||||||||||||||||||||||||||||||||||||||||||||||||||||||||||||||||.||||||||||||||||||||||||||||||.||||||||||||||||||.||.||||||||||||||||.|||||||||||||||||||||||||||||||||||||||||||||||||||.|||||||||||||||||||||||||||||||||||||||||||||||||||||||||||||||||||.||||||||||||||||||||||||||.|||||||||||||||||||||||..|||||||||||-||-|||.|||||||||||||||||.||||||||||||||||||||||||||||||||||||||||||||||-|-|||||||||||||||||||||||||||||||||||||||||||||||||||||||||||.||||||||.|||||||||||||||||||||||||||||.|||||||||||||||||||||||||||||||||||.||||||||||||||||||||||||||.|||||||||||||||||||||||||||||||.||||||||||||.||||||||||||||||||||||||||||||||||||||.||||||||||||||||||||||||||.|||||||||||.|||||||||||||||||||||||.|.|||||||||||||||||||||||||||||||||||||||||||||||||||||||||||||||||||||.|||||||||||||||||||||||||||||||||||||.|||.|||||.||||||||||||||||||||||||||||||||||||||||||||||||||||||||||||||||||||||||||.||||||||.||||||||||.|||.|||||||||||||||||||||||||||||||||||||||||||||||||||||||||||||||||||||||||||||||||||||||||.||.|||||.|||||||||||||||||||||||||||||||||||||||||.||.||||||||.||||||||||||||||||||||||||||||||||||.|||||||||||||||||||.||||||||||||||||||||||||||||||||||||||||||||||||||||||||||||||||||||||||||||||||||||||||||||||||||||||||||||||||||||||||||||||||||||||||||||||||||||||||||||||||||||||||||||||||||||||||||||||||||||||||||||||||||||||||||||||||||||||||||||||||||||||||||||||||||||||||||||||||||||||||||||||||||||||||||||||||||||||||||.|||||||||||||||||||||||||||||||||||||||||||||||.||||||||||||||||||||||||||||||||||||||||||||||||||||||||||||||||||||||||||-||-|||.||||||||||||||||||||||||||||||||||||||.||.||.||||||||||||||||||||||||||||||||||||||||||||||||||..|.||||||||||||||||||||||||||.||||||||||||||||||||.|||||||||||||||||.||||||||||||||.||||||||.||.||||||||||||||||||||||||||.|||||||||||||||||||||||.|||||.|||||||||||||||||||||||||||||||||||||||||.||||||||||||||||||||||||||||||||||||||||||||||||||||||||||||||||||||||||||||||||||||||||||||||||||||||||||||||||||||||||||||||||||-|-|||||.||.||||||||||||||||||||||||||||||||||||||||||||.||||||||||||||||||||||||||||||||||||||||||||.|||||||||||.||||||||.||.||.||||||||||||||||||||||||.|.||||||||||||||||||||||||||||||||||||||||||||||||||||||||||||||.|||||||||||.|||||||||||.|||||||||||||||||.|||||.|||||||||||||||||||||||||||||||||||||||||||||||||||||||||||||||||||||||||||||.||||||||||||||||||||||||||||||||||||||||||||||||||||||||||||||||||||||||||||||||||||||||||||||||||||||||.|||||||||||||||||||||||||||||.||.|||||||||||||||||||||||||||||||||||||||||||||||||||||.||||||||||||||||||||||||||||||||||||||||||||||||||||||||||||||.|||||||||||||||||||||||||||||||||||||||||||||||.||||||||||||||||||||||||||.|||||||||||||||||||||||||||||||||||||||||.|||||||||||.|||||||||||.||||||||.|||||||||||||||||.|||||.||.|||||||||||||||||||||||.|||||.||||||||||||||||||||||||||.|||||.||.||.||.||.|||||.|||||.|||||||||||||||||||||||||||||||||||||||||||||||||||||||||||.||||||||||||||||||||||||||||||||.|||||||||||||||||||||||||||||||||||.||||||||||||||||||||||||||||||||||||||.|||||||||||.||.||.||||||||.|||||||||.|.||||||||.||.|||||.|||||||||||||||||||||||||||||||||||||||||||||||||||||.|||||||||||||||||||||||||||||||||||||||||||||||||||||||||||||||||||||||||||||||||||||||||||||||||||||||||||||||||||||||||||||||||||||||||||||||||||||||||||||||||||||||||||||||||||.||||||||.||||||||||||||||||||||||||||||||||||||||||||||||||||||||||||||||||||||||||||||||||||||||||||||||||.||||||||||||||||||||||||||.|||||||||||||||||||||||||||||||||||||||||||||||||||||||||||||||||||||||||||||||||||||||||||||||||||||||||||||||||||||||||||||||||||||||||||||||||||||||||||||||||||||||||||||||||||||||||||||||||||||||||||||||||||||||||||||||||||||||||||||||||||||||||||||||||||||||||||||||||||||||||||||||||||||||||||.|||||||||||||||||||||||||||||||||||||||||||||||||||||||||||.|||||||||||||||||.||.||||||||||||||||||||||||||||||||||||||||||||||||||||||||||||||||||||||||||||||||.|||||||||||||||||||||||||||||||||||.|||||||||||||||||||||||||||||||||||||||||||||||||||||||||||||||||||||||||||||||||||||||.|||||||||||||||||||||||||||||||||||||||||||||||||||||||||||||||||||||||||||||||||||||||||||||||||.|||||||||||||||||.||||||||||||||||||||||||||||||||.|||||||||||||||||||||||||||||||||||||||||.||||||||||||||||||||||||||||||||||||||.|||||||||||||||||||||||||||||||||||||||||||||||||||||||||||||||||||||||||||||||||||||||||||||||||||||||||||.||.||||||||||||||||||||||||||||||||||||||||||||||||||||||||||||||||||||||||||||||||||||||||||||||||||||||||||||||||||||||||||||||||||||||||||||||||||||||||||||||||||||||||||||||||||||||||||||.||||||||||||||||||||||||||||.||-|||||||||||||||||||||||||||||||||||||||||||||||||||||||||||||||||||||||||||||||||||||||||||||||||||||||||||||||||||||||||||||||||||||||||||||||||||||||||||||||||||||||||||||||||||||||||||||||||||||||.|||||||||||||||||||||||||||||||||||||||||||||||||||||||---||---|----|-||--||||||-------------|||||||||||-|-||-|---|-|||||||.|||||||||||||||||||||||||||||.||||||||||||||||||||||||||||||||||||||||||||||||||||||.|||||||||||||||||||||||||||||||||||||||||||||||||||||-|----|-|||--|-||||---||--||-|||.||||.||.||||||||||.|.|.||||||||||||||||||||||.|||||||||||||||||||||||||||||.||.||.|||||||||||||||||.||||||||||||||||||.|||||||||||||||.|||.||||||||||||||.|||||||||||||||||||||||||||||||||||||||||||||||||||||||||.|||||||.|||||||||||||||||.||||||||||||||||||||||||||||||||.||||||||||||||.|||||||||||||||||||||||||||||.|||||||||||||||.|||||.-|-'"
     },
     "execution_count": 200,
     "metadata": {},
     "output_type": "execute_result"
    }
   ],
   "source": [
    "# I = int(3e6)\n",
    "# L = int(10e3)\n",
    "query = S1\n",
    "target = seq2\n",
    "result = edlib.align(query, target, mode='HW',task='path')\n",
    "nice = edlib.getNiceAlignment(result, query, target)\n",
    "print('locations = ', result['locations'])\n",
    "print('match score = ',nice['matched_aligned'].count('|')/len(query))\n",
    "nice['matched_aligned']"
   ],
   "metadata": {
    "collapsed": false,
    "pycharm": {
     "name": "#%%\n"
    }
   }
  },
  {
   "cell_type": "code",
   "execution_count": 232,
   "outputs": [
    {
     "data": {
      "text/plain": "0.01364445323314218"
     },
     "execution_count": 232,
     "metadata": {},
     "output_type": "execute_result"
    }
   ],
   "source": [
    "str(nice['target_aligned']).count('-')/len(nice['target_aligned'])"
   ],
   "metadata": {
    "collapsed": false,
    "pycharm": {
     "name": "#%%\n"
    }
   }
  },
  {
   "cell_type": "code",
   "execution_count": 231,
   "outputs": [
    {
     "data": {
      "text/plain": "([2629, 2375, 2323, 2673], [1407497, 1216512, 1186955, 1384275])"
     },
     "execution_count": 231,
     "metadata": {},
     "output_type": "execute_result"
    }
   ],
   "source": [
    "[query.count(c) for c in 'ACGT'],[target.count(c) for c in 'ACGT']"
   ],
   "metadata": {
    "collapsed": false,
    "pycharm": {
     "name": "#%%\n"
    }
   }
  },
  {
   "cell_type": "code",
   "execution_count": 24,
   "outputs": [],
   "source": [
    "%matplotlib inline\n",
    "import matplotlib.pyplot as plt\n",
    "\n",
    "N = len(all_seqs)\n",
    "\n",
    "for i in range(N):\n",
    "    for j in range(i,N):\n",
    "        sk1 = all_seqs[i]['sketch']['array']\n",
    "        sk2 = all_seqs[j]['sketch']['array']\n",
    "        sk1 = sk1.transpose() / np.sqrt(np.sum(sk1**2,axis=1))\n",
    "        sk2 = sk2.transpose() / np.sqrt(np.sum(sk2**2,axis=1))\n",
    "        prod = np.matmul(sk1.transpose(),sk2)\n",
    "        angle = np.arccos(prod) / np.pi\n",
    "\n",
    "        plt.matshow(angle)\n",
    "        plt.colorbar()\n",
    "        plt.title(f'seq {i} vs. seq {j}')\n",
    "        plt.show()"
   ],
   "metadata": {
    "collapsed": false,
    "pycharm": {
     "name": "#%%\n"
    }
   }
  },
  {
   "cell_type": "code",
   "execution_count": 201,
   "outputs": [
    {
     "data": {
      "text/plain": "(20, 1105)"
     },
     "execution_count": 201,
     "metadata": {},
     "output_type": "execute_result"
    }
   ],
   "source": [
    "M = np.random.randn(sketch_dim,sketch_dim)\n",
    "sk1_proj = ((M @ sk1) > 0).astype(np.int32)\n",
    "sk2_proj = ((M @ sk2) > 0).astype(np.int32)\n",
    "np.intersect1d(sk1_proj,)"
   ],
   "metadata": {
    "collapsed": false,
    "pycharm": {
     "name": "#%%\n"
    }
   }
  },
  {
   "cell_type": "code",
   "execution_count": 230,
   "outputs": [
    {
     "data": {
      "text/plain": "(40, 1105)"
     },
     "execution_count": 230,
     "metadata": {},
     "output_type": "execute_result"
    }
   ],
   "source": [
    "sk1_proj"
   ],
   "metadata": {
    "collapsed": false,
    "pycharm": {
     "name": "#%%\n"
    }
   }
  },
  {
   "cell_type": "code",
   "execution_count": 227,
   "outputs": [
    {
     "data": {
      "text/plain": "((20, 1105), (20, 1105))"
     },
     "execution_count": 227,
     "metadata": {},
     "output_type": "execute_result"
    }
   ],
   "source": [
    "sk1_proj.shape, sk1.shape"
   ],
   "metadata": {
    "collapsed": false,
    "pycharm": {
     "name": "#%%\n"
    }
   }
  },
  {
   "cell_type": "code",
   "execution_count": null,
   "outputs": [],
   "source": [],
   "metadata": {
    "collapsed": false,
    "pycharm": {
     "name": "#%%\n"
    }
   }
  }
 ],
 "metadata": {
  "kernelspec": {
   "display_name": "Python 3",
   "language": "python",
   "name": "python3"
  },
  "language_info": {
   "codemirror_mode": {
    "name": "ipython",
    "version": 2
   },
   "file_extension": ".py",
   "mimetype": "text/x-python",
   "name": "python",
   "nbconvert_exporter": "python",
   "pygments_lexer": "ipython2",
   "version": "2.7.6"
  }
 },
 "nbformat": 4,
 "nbformat_minor": 0
}